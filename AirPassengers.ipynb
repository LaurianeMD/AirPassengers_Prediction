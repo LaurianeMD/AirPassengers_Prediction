{
 "cells": [
  {
   "cell_type": "markdown",
   "id": "592981da",
   "metadata": {
    "id": "592981da"
   },
   "source": [
    "# Importation des librairies"
   ]
  },
  {
   "cell_type": "code",
   "execution_count": 11,
   "id": "3b6f911a",
   "metadata": {
    "id": "3b6f911a"
   },
   "outputs": [
    {
     "ename": "ModuleNotFoundError",
     "evalue": "No module named 'tensorflow.keras'",
     "output_type": "error",
     "traceback": [
      "\u001b[1;31m---------------------------------------------------------------------------\u001b[0m",
      "\u001b[1;31mModuleNotFoundError\u001b[0m                       Traceback (most recent call last)",
      "Cell \u001b[1;32mIn[11], line 7\u001b[0m\n\u001b[0;32m      5\u001b[0m \u001b[38;5;28;01mfrom\u001b[39;00m \u001b[38;5;21;01msklearn\u001b[39;00m\u001b[38;5;21;01m.\u001b[39;00m\u001b[38;5;21;01mmetrics\u001b[39;00m \u001b[38;5;28;01mimport\u001b[39;00m mean_squared_error\n\u001b[0;32m      6\u001b[0m \u001b[38;5;28;01mimport\u001b[39;00m \u001b[38;5;21;01mtensorflow\u001b[39;00m \u001b[38;5;28;01mas\u001b[39;00m \u001b[38;5;21;01mtf\u001b[39;00m\n\u001b[1;32m----> 7\u001b[0m \u001b[38;5;28;01mfrom\u001b[39;00m \u001b[38;5;21;01mtensorflow\u001b[39;00m\u001b[38;5;21;01m.\u001b[39;00m\u001b[38;5;21;01mkeras\u001b[39;00m\u001b[38;5;21;01m.\u001b[39;00m\u001b[38;5;21;01mmodels\u001b[39;00m \u001b[38;5;28;01mimport\u001b[39;00m Sequential\n\u001b[0;32m      8\u001b[0m \u001b[38;5;28;01mfrom\u001b[39;00m \u001b[38;5;21;01mtensorflow\u001b[39;00m\u001b[38;5;21;01m.\u001b[39;00m\u001b[38;5;21;01mkeras\u001b[39;00m\u001b[38;5;21;01m.\u001b[39;00m\u001b[38;5;21;01mlayers\u001b[39;00m \u001b[38;5;28;01mimport\u001b[39;00m LSTM, Dense\n\u001b[0;32m      9\u001b[0m \u001b[38;5;28;01mfrom\u001b[39;00m \u001b[38;5;21;01mtensorflow\u001b[39;00m\u001b[38;5;21;01m.\u001b[39;00m\u001b[38;5;21;01mkeras\u001b[39;00m\u001b[38;5;21;01m.\u001b[39;00m\u001b[38;5;21;01moptimizers\u001b[39;00m \u001b[38;5;28;01mimport\u001b[39;00m Adam\n",
      "\u001b[1;31mModuleNotFoundError\u001b[0m: No module named 'tensorflow.keras'"
     ]
    }
   ],
   "source": [
    "import pandas as pd\n",
    "import statsmodels.api as sm\n",
    "import matplotlib.pyplot as plt\n",
    "from sklearn.preprocessing import MinMaxScaler\n",
    "from sklearn.metrics import mean_squared_error\n",
    "import tensorflow as tf\n",
    "from tensorflow.keras.models import Sequential\n",
    "from tensorflow.keras.layers import LSTM, Dense\n",
    "from tensorflow.keras.optimizers import Adam\n",
    "import numpy as np"
   ]
  },
  {
   "cell_type": "code",
   "execution_count": null,
   "id": "0e2595f1",
   "metadata": {},
   "outputs": [
    {
     "ename": "ImportError",
     "evalue": "cannot import name 'keras' from 'tensorflow' (unknown location)",
     "output_type": "error",
     "traceback": [
      "\u001b[1;31m---------------------------------------------------------------------------\u001b[0m",
      "\u001b[1;31mImportError\u001b[0m                               Traceback (most recent call last)",
      "Cell \u001b[1;32mIn[9], line 6\u001b[0m\n\u001b[0;32m      4\u001b[0m \u001b[38;5;28;01mfrom\u001b[39;00m \u001b[38;5;21;01msklearn\u001b[39;00m\u001b[38;5;21;01m.\u001b[39;00m\u001b[38;5;21;01mpreprocessing\u001b[39;00m \u001b[38;5;28;01mimport\u001b[39;00m MinMaxScaler\n\u001b[0;32m      5\u001b[0m \u001b[38;5;28;01mfrom\u001b[39;00m \u001b[38;5;21;01msklearn\u001b[39;00m\u001b[38;5;21;01m.\u001b[39;00m\u001b[38;5;21;01mmetrics\u001b[39;00m \u001b[38;5;28;01mimport\u001b[39;00m mean_squared_error\n\u001b[1;32m----> 6\u001b[0m \u001b[38;5;28;01mfrom\u001b[39;00m \u001b[38;5;21;01mtensorflow\u001b[39;00m \u001b[38;5;28;01mimport\u001b[39;00m keras\n\u001b[0;32m      8\u001b[0m \u001b[38;5;66;03m# import tensorflow.keras as keras\u001b[39;00m\n\u001b[0;32m      9\u001b[0m \u001b[38;5;66;03m# from tensorflow.keras.models import Sequential\u001b[39;00m\n\u001b[0;32m     10\u001b[0m \u001b[38;5;66;03m# from tensorflow.keras.layers import LSTM, Dense\u001b[39;00m\n\u001b[0;32m     11\u001b[0m \u001b[38;5;66;03m# from tensorflow.keras.optimizers import Adam\u001b[39;00m\n\u001b[0;32m     12\u001b[0m \u001b[38;5;28;01mimport\u001b[39;00m \u001b[38;5;21;01mnumpy\u001b[39;00m \u001b[38;5;28;01mas\u001b[39;00m \u001b[38;5;21;01mnp\u001b[39;00m\n",
      "\u001b[1;31mImportError\u001b[0m: cannot import name 'keras' from 'tensorflow' (unknown location)"
     ]
    }
   ],
   "source": [
    "import pandas as pd\n",
    "import statsmodels.api as sm\n",
    "import matplotlib.pyplot as plt\n",
    "from sklearn.preprocessing import MinMaxScaler\n",
    "from sklearn.metrics import mean_squared_error\n",
    "import tensorflow\n",
    "import keras\n",
    "from keras import Sequential\n",
    "from keras import LSTM, Dense\n",
    "from keras import Adam\n",
    "import numpy as np\n"
   ]
  },
  {
   "cell_type": "code",
   "execution_count": 13,
   "id": "c6324a54",
   "metadata": {},
   "outputs": [
    {
     "ename": "AttributeError",
     "evalue": "module 'tensorflow' has no attribute 'ones'",
     "output_type": "error",
     "traceback": [
      "\u001b[1;31m---------------------------------------------------------------------------\u001b[0m",
      "\u001b[1;31mAttributeError\u001b[0m                            Traceback (most recent call last)",
      "Cell \u001b[1;32mIn[13], line 1\u001b[0m\n\u001b[1;32m----> 1\u001b[0m \u001b[38;5;28;01mfrom\u001b[39;00m \u001b[38;5;21;01mkeras\u001b[39;00m \u001b[38;5;28;01mimport\u001b[39;00m layers, models, optimizers, losses, metrics\n",
      "File \u001b[1;32mc:\\Users\\Imam said\\AppData\\Local\\Programs\\Python\\Python310\\lib\\site-packages\\keras\\__init__.py:4\u001b[0m\n\u001b[0;32m      1\u001b[0m \u001b[38;5;28;01mimport\u001b[39;00m \u001b[38;5;21;01mos\u001b[39;00m\n\u001b[0;32m      3\u001b[0m \u001b[38;5;66;03m# DO NOT EDIT. Generated by api_gen.sh\u001b[39;00m\n\u001b[1;32m----> 4\u001b[0m \u001b[38;5;28;01mfrom\u001b[39;00m \u001b[38;5;21;01mkeras\u001b[39;00m\u001b[38;5;21;01m.\u001b[39;00m\u001b[38;5;21;01mapi\u001b[39;00m \u001b[38;5;28;01mimport\u001b[39;00m DTypePolicy\n\u001b[0;32m      5\u001b[0m \u001b[38;5;28;01mfrom\u001b[39;00m \u001b[38;5;21;01mkeras\u001b[39;00m\u001b[38;5;21;01m.\u001b[39;00m\u001b[38;5;21;01mapi\u001b[39;00m \u001b[38;5;28;01mimport\u001b[39;00m FloatDTypePolicy\n\u001b[0;32m      6\u001b[0m \u001b[38;5;28;01mfrom\u001b[39;00m \u001b[38;5;21;01mkeras\u001b[39;00m\u001b[38;5;21;01m.\u001b[39;00m\u001b[38;5;21;01mapi\u001b[39;00m \u001b[38;5;28;01mimport\u001b[39;00m Function\n",
      "File \u001b[1;32mc:\\Users\\Imam said\\AppData\\Local\\Programs\\Python\\Python310\\lib\\site-packages\\keras\\api\\__init__.py:8\u001b[0m\n\u001b[0;32m      1\u001b[0m \u001b[38;5;124;03m\"\"\"DO NOT EDIT.\u001b[39;00m\n\u001b[0;32m      2\u001b[0m \n\u001b[0;32m      3\u001b[0m \u001b[38;5;124;03mThis file was autogenerated. Do not edit it by hand,\u001b[39;00m\n\u001b[0;32m      4\u001b[0m \u001b[38;5;124;03msince your modifications would be overwritten.\u001b[39;00m\n\u001b[0;32m      5\u001b[0m \u001b[38;5;124;03m\"\"\"\u001b[39;00m\n\u001b[1;32m----> 8\u001b[0m \u001b[38;5;28;01mfrom\u001b[39;00m \u001b[38;5;21;01mkeras\u001b[39;00m\u001b[38;5;21;01m.\u001b[39;00m\u001b[38;5;21;01mapi\u001b[39;00m \u001b[38;5;28;01mimport\u001b[39;00m activations\n\u001b[0;32m      9\u001b[0m \u001b[38;5;28;01mfrom\u001b[39;00m \u001b[38;5;21;01mkeras\u001b[39;00m\u001b[38;5;21;01m.\u001b[39;00m\u001b[38;5;21;01mapi\u001b[39;00m \u001b[38;5;28;01mimport\u001b[39;00m applications\n\u001b[0;32m     10\u001b[0m \u001b[38;5;28;01mfrom\u001b[39;00m \u001b[38;5;21;01mkeras\u001b[39;00m\u001b[38;5;21;01m.\u001b[39;00m\u001b[38;5;21;01mapi\u001b[39;00m \u001b[38;5;28;01mimport\u001b[39;00m backend\n",
      "File \u001b[1;32mc:\\Users\\Imam said\\AppData\\Local\\Programs\\Python\\Python310\\lib\\site-packages\\keras\\api\\activations\\__init__.py:7\u001b[0m\n\u001b[0;32m      1\u001b[0m \u001b[38;5;124;03m\"\"\"DO NOT EDIT.\u001b[39;00m\n\u001b[0;32m      2\u001b[0m \n\u001b[0;32m      3\u001b[0m \u001b[38;5;124;03mThis file was autogenerated. Do not edit it by hand,\u001b[39;00m\n\u001b[0;32m      4\u001b[0m \u001b[38;5;124;03msince your modifications would be overwritten.\u001b[39;00m\n\u001b[0;32m      5\u001b[0m \u001b[38;5;124;03m\"\"\"\u001b[39;00m\n\u001b[1;32m----> 7\u001b[0m \u001b[38;5;28;01mfrom\u001b[39;00m \u001b[38;5;21;01mkeras\u001b[39;00m\u001b[38;5;21;01m.\u001b[39;00m\u001b[38;5;21;01msrc\u001b[39;00m\u001b[38;5;21;01m.\u001b[39;00m\u001b[38;5;21;01mactivations\u001b[39;00m \u001b[38;5;28;01mimport\u001b[39;00m deserialize\n\u001b[0;32m      8\u001b[0m \u001b[38;5;28;01mfrom\u001b[39;00m \u001b[38;5;21;01mkeras\u001b[39;00m\u001b[38;5;21;01m.\u001b[39;00m\u001b[38;5;21;01msrc\u001b[39;00m\u001b[38;5;21;01m.\u001b[39;00m\u001b[38;5;21;01mactivations\u001b[39;00m \u001b[38;5;28;01mimport\u001b[39;00m get\n\u001b[0;32m      9\u001b[0m \u001b[38;5;28;01mfrom\u001b[39;00m \u001b[38;5;21;01mkeras\u001b[39;00m\u001b[38;5;21;01m.\u001b[39;00m\u001b[38;5;21;01msrc\u001b[39;00m\u001b[38;5;21;01m.\u001b[39;00m\u001b[38;5;21;01mactivations\u001b[39;00m \u001b[38;5;28;01mimport\u001b[39;00m serialize\n",
      "File \u001b[1;32mc:\\Users\\Imam said\\AppData\\Local\\Programs\\Python\\Python310\\lib\\site-packages\\keras\\src\\__init__.py:1\u001b[0m\n\u001b[1;32m----> 1\u001b[0m \u001b[38;5;28;01mfrom\u001b[39;00m \u001b[38;5;21;01mkeras\u001b[39;00m\u001b[38;5;21;01m.\u001b[39;00m\u001b[38;5;21;01msrc\u001b[39;00m \u001b[38;5;28;01mimport\u001b[39;00m activations\n\u001b[0;32m      2\u001b[0m \u001b[38;5;28;01mfrom\u001b[39;00m \u001b[38;5;21;01mkeras\u001b[39;00m\u001b[38;5;21;01m.\u001b[39;00m\u001b[38;5;21;01msrc\u001b[39;00m \u001b[38;5;28;01mimport\u001b[39;00m applications\n\u001b[0;32m      3\u001b[0m \u001b[38;5;28;01mfrom\u001b[39;00m \u001b[38;5;21;01mkeras\u001b[39;00m\u001b[38;5;21;01m.\u001b[39;00m\u001b[38;5;21;01msrc\u001b[39;00m \u001b[38;5;28;01mimport\u001b[39;00m backend\n",
      "File \u001b[1;32mc:\\Users\\Imam said\\AppData\\Local\\Programs\\Python\\Python310\\lib\\site-packages\\keras\\src\\activations\\__init__.py:3\u001b[0m\n\u001b[0;32m      1\u001b[0m \u001b[38;5;28;01mimport\u001b[39;00m \u001b[38;5;21;01mtypes\u001b[39;00m\n\u001b[1;32m----> 3\u001b[0m \u001b[38;5;28;01mfrom\u001b[39;00m \u001b[38;5;21;01mkeras\u001b[39;00m\u001b[38;5;21;01m.\u001b[39;00m\u001b[38;5;21;01msrc\u001b[39;00m\u001b[38;5;21;01m.\u001b[39;00m\u001b[38;5;21;01mactivations\u001b[39;00m\u001b[38;5;21;01m.\u001b[39;00m\u001b[38;5;21;01mactivations\u001b[39;00m \u001b[38;5;28;01mimport\u001b[39;00m elu\n\u001b[0;32m      4\u001b[0m \u001b[38;5;28;01mfrom\u001b[39;00m \u001b[38;5;21;01mkeras\u001b[39;00m\u001b[38;5;21;01m.\u001b[39;00m\u001b[38;5;21;01msrc\u001b[39;00m\u001b[38;5;21;01m.\u001b[39;00m\u001b[38;5;21;01mactivations\u001b[39;00m\u001b[38;5;21;01m.\u001b[39;00m\u001b[38;5;21;01mactivations\u001b[39;00m \u001b[38;5;28;01mimport\u001b[39;00m exponential\n\u001b[0;32m      5\u001b[0m \u001b[38;5;28;01mfrom\u001b[39;00m \u001b[38;5;21;01mkeras\u001b[39;00m\u001b[38;5;21;01m.\u001b[39;00m\u001b[38;5;21;01msrc\u001b[39;00m\u001b[38;5;21;01m.\u001b[39;00m\u001b[38;5;21;01mactivations\u001b[39;00m\u001b[38;5;21;01m.\u001b[39;00m\u001b[38;5;21;01mactivations\u001b[39;00m \u001b[38;5;28;01mimport\u001b[39;00m gelu\n",
      "File \u001b[1;32mc:\\Users\\Imam said\\AppData\\Local\\Programs\\Python\\Python310\\lib\\site-packages\\keras\\src\\activations\\activations.py:1\u001b[0m\n\u001b[1;32m----> 1\u001b[0m \u001b[38;5;28;01mfrom\u001b[39;00m \u001b[38;5;21;01mkeras\u001b[39;00m\u001b[38;5;21;01m.\u001b[39;00m\u001b[38;5;21;01msrc\u001b[39;00m \u001b[38;5;28;01mimport\u001b[39;00m backend\n\u001b[0;32m      2\u001b[0m \u001b[38;5;28;01mfrom\u001b[39;00m \u001b[38;5;21;01mkeras\u001b[39;00m\u001b[38;5;21;01m.\u001b[39;00m\u001b[38;5;21;01msrc\u001b[39;00m \u001b[38;5;28;01mimport\u001b[39;00m ops\n\u001b[0;32m      3\u001b[0m \u001b[38;5;28;01mfrom\u001b[39;00m \u001b[38;5;21;01mkeras\u001b[39;00m\u001b[38;5;21;01m.\u001b[39;00m\u001b[38;5;21;01msrc\u001b[39;00m\u001b[38;5;21;01m.\u001b[39;00m\u001b[38;5;21;01mapi_export\u001b[39;00m \u001b[38;5;28;01mimport\u001b[39;00m keras_export\n",
      "File \u001b[1;32mc:\\Users\\Imam said\\AppData\\Local\\Programs\\Python\\Python310\\lib\\site-packages\\keras\\src\\backend\\__init__.py:33\u001b[0m\n\u001b[0;32m     31\u001b[0m \u001b[38;5;66;03m# Import backend functions.\u001b[39;00m\n\u001b[0;32m     32\u001b[0m \u001b[38;5;28;01mif\u001b[39;00m backend() \u001b[38;5;241m==\u001b[39m \u001b[38;5;124m\"\u001b[39m\u001b[38;5;124mtensorflow\u001b[39m\u001b[38;5;124m\"\u001b[39m:\n\u001b[1;32m---> 33\u001b[0m     \u001b[38;5;28;01mfrom\u001b[39;00m \u001b[38;5;21;01mkeras\u001b[39;00m\u001b[38;5;21;01m.\u001b[39;00m\u001b[38;5;21;01msrc\u001b[39;00m\u001b[38;5;21;01m.\u001b[39;00m\u001b[38;5;21;01mbackend\u001b[39;00m\u001b[38;5;21;01m.\u001b[39;00m\u001b[38;5;21;01mtensorflow\u001b[39;00m \u001b[38;5;28;01mimport\u001b[39;00m \u001b[38;5;241m*\u001b[39m  \u001b[38;5;66;03m# noqa: F403\u001b[39;00m\n\u001b[0;32m     34\u001b[0m \u001b[38;5;28;01melif\u001b[39;00m backend() \u001b[38;5;241m==\u001b[39m \u001b[38;5;124m\"\u001b[39m\u001b[38;5;124mjax\u001b[39m\u001b[38;5;124m\"\u001b[39m:\n\u001b[0;32m     35\u001b[0m     \u001b[38;5;28;01mfrom\u001b[39;00m \u001b[38;5;21;01mkeras\u001b[39;00m\u001b[38;5;21;01m.\u001b[39;00m\u001b[38;5;21;01msrc\u001b[39;00m\u001b[38;5;21;01m.\u001b[39;00m\u001b[38;5;21;01mbackend\u001b[39;00m\u001b[38;5;21;01m.\u001b[39;00m\u001b[38;5;21;01mjax\u001b[39;00m \u001b[38;5;28;01mimport\u001b[39;00m \u001b[38;5;241m*\u001b[39m  \u001b[38;5;66;03m# noqa: F403\u001b[39;00m\n",
      "File \u001b[1;32mc:\\Users\\Imam said\\AppData\\Local\\Programs\\Python\\Python310\\lib\\site-packages\\keras\\src\\backend\\tensorflow\\__init__.py:1\u001b[0m\n\u001b[1;32m----> 1\u001b[0m \u001b[38;5;28;01mfrom\u001b[39;00m \u001b[38;5;21;01mkeras\u001b[39;00m\u001b[38;5;21;01m.\u001b[39;00m\u001b[38;5;21;01msrc\u001b[39;00m\u001b[38;5;21;01m.\u001b[39;00m\u001b[38;5;21;01mbackend\u001b[39;00m\u001b[38;5;21;01m.\u001b[39;00m\u001b[38;5;21;01mtensorflow\u001b[39;00m \u001b[38;5;28;01mimport\u001b[39;00m core\n\u001b[0;32m      2\u001b[0m \u001b[38;5;28;01mfrom\u001b[39;00m \u001b[38;5;21;01mkeras\u001b[39;00m\u001b[38;5;21;01m.\u001b[39;00m\u001b[38;5;21;01msrc\u001b[39;00m\u001b[38;5;21;01m.\u001b[39;00m\u001b[38;5;21;01mbackend\u001b[39;00m\u001b[38;5;21;01m.\u001b[39;00m\u001b[38;5;21;01mtensorflow\u001b[39;00m \u001b[38;5;28;01mimport\u001b[39;00m distribution_lib\n\u001b[0;32m      3\u001b[0m \u001b[38;5;28;01mfrom\u001b[39;00m \u001b[38;5;21;01mkeras\u001b[39;00m\u001b[38;5;21;01m.\u001b[39;00m\u001b[38;5;21;01msrc\u001b[39;00m\u001b[38;5;21;01m.\u001b[39;00m\u001b[38;5;21;01mbackend\u001b[39;00m\u001b[38;5;21;01m.\u001b[39;00m\u001b[38;5;21;01mtensorflow\u001b[39;00m \u001b[38;5;28;01mimport\u001b[39;00m image\n",
      "File \u001b[1;32mc:\\Users\\Imam said\\AppData\\Local\\Programs\\Python\\Python310\\lib\\site-packages\\keras\\src\\backend\\tensorflow\\core.py:13\u001b[0m\n\u001b[0;32m     11\u001b[0m \u001b[38;5;28;01mfrom\u001b[39;00m \u001b[38;5;21;01mkeras\u001b[39;00m\u001b[38;5;21;01m.\u001b[39;00m\u001b[38;5;21;01msrc\u001b[39;00m\u001b[38;5;21;01m.\u001b[39;00m\u001b[38;5;21;01mbackend\u001b[39;00m\u001b[38;5;21;01m.\u001b[39;00m\u001b[38;5;21;01mcommon\u001b[39;00m\u001b[38;5;21;01m.\u001b[39;00m\u001b[38;5;21;01mstateless_scope\u001b[39;00m \u001b[38;5;28;01mimport\u001b[39;00m StatelessScope\n\u001b[0;32m     12\u001b[0m \u001b[38;5;28;01mfrom\u001b[39;00m \u001b[38;5;21;01mkeras\u001b[39;00m\u001b[38;5;21;01m.\u001b[39;00m\u001b[38;5;21;01msrc\u001b[39;00m\u001b[38;5;21;01m.\u001b[39;00m\u001b[38;5;21;01mbackend\u001b[39;00m\u001b[38;5;21;01m.\u001b[39;00m\u001b[38;5;21;01mcommon\u001b[39;00m\u001b[38;5;21;01m.\u001b[39;00m\u001b[38;5;21;01mstateless_scope\u001b[39;00m \u001b[38;5;28;01mimport\u001b[39;00m in_stateless_scope\n\u001b[1;32m---> 13\u001b[0m \u001b[38;5;28;01mfrom\u001b[39;00m \u001b[38;5;21;01mkeras\u001b[39;00m\u001b[38;5;21;01m.\u001b[39;00m\u001b[38;5;21;01msrc\u001b[39;00m\u001b[38;5;21;01m.\u001b[39;00m\u001b[38;5;21;01mbackend\u001b[39;00m\u001b[38;5;21;01m.\u001b[39;00m\u001b[38;5;21;01mtensorflow\u001b[39;00m\u001b[38;5;21;01m.\u001b[39;00m\u001b[38;5;21;01msparse\u001b[39;00m \u001b[38;5;28;01mimport\u001b[39;00m sparse_to_dense\n\u001b[0;32m     14\u001b[0m \u001b[38;5;28;01mfrom\u001b[39;00m \u001b[38;5;21;01mkeras\u001b[39;00m\u001b[38;5;21;01m.\u001b[39;00m\u001b[38;5;21;01msrc\u001b[39;00m\u001b[38;5;21;01m.\u001b[39;00m\u001b[38;5;21;01mutils\u001b[39;00m\u001b[38;5;21;01m.\u001b[39;00m\u001b[38;5;21;01mnaming\u001b[39;00m \u001b[38;5;28;01mimport\u001b[39;00m auto_name\n\u001b[0;32m     16\u001b[0m SUPPORTS_SPARSE_TENSORS \u001b[38;5;241m=\u001b[39m \u001b[38;5;28;01mTrue\u001b[39;00m\n",
      "File \u001b[1;32mc:\\Users\\Imam said\\AppData\\Local\\Programs\\Python\\Python310\\lib\\site-packages\\keras\\src\\backend\\tensorflow\\sparse.py:5\u001b[0m\n\u001b[0;32m      1\u001b[0m \u001b[38;5;28;01mimport\u001b[39;00m \u001b[38;5;21;01mfunctools\u001b[39;00m\n\u001b[0;32m      3\u001b[0m \u001b[38;5;28;01mimport\u001b[39;00m \u001b[38;5;21;01mtensorflow\u001b[39;00m \u001b[38;5;28;01mas\u001b[39;00m \u001b[38;5;21;01mtf\u001b[39;00m\n\u001b[1;32m----> 5\u001b[0m ones_bool \u001b[38;5;241m=\u001b[39m functools\u001b[38;5;241m.\u001b[39mpartial(\u001b[43mtf\u001b[49m\u001b[38;5;241;43m.\u001b[39;49m\u001b[43mones\u001b[49m, dtype\u001b[38;5;241m=\u001b[39mtf\u001b[38;5;241m.\u001b[39mbool)\n\u001b[0;32m      6\u001b[0m ones_int8 \u001b[38;5;241m=\u001b[39m functools\u001b[38;5;241m.\u001b[39mpartial(tf\u001b[38;5;241m.\u001b[39mones, dtype\u001b[38;5;241m=\u001b[39mtf\u001b[38;5;241m.\u001b[39mint8)\n\u001b[0;32m      7\u001b[0m zeros_int8 \u001b[38;5;241m=\u001b[39m functools\u001b[38;5;241m.\u001b[39mpartial(tf\u001b[38;5;241m.\u001b[39mzeros, dtype\u001b[38;5;241m=\u001b[39mtf\u001b[38;5;241m.\u001b[39mint8)\n",
      "\u001b[1;31mAttributeError\u001b[0m: module 'tensorflow' has no attribute 'ones'"
     ]
    }
   ],
   "source": [
    "from keras import layers, models, optimizers, losses, metrics"
   ]
  },
  {
   "cell_type": "markdown",
   "id": "c6976701",
   "metadata": {
    "id": "c6976701"
   },
   "source": [
    "# Préparation des données"
   ]
  },
  {
   "cell_type": "markdown",
   "id": "c2244e56",
   "metadata": {
    "id": "c2244e56"
   },
   "source": [
    "## a) Chargement du dataset et affichage de quelques lignes"
   ]
  },
  {
   "cell_type": "code",
   "execution_count": 2,
   "id": "e742df23",
   "metadata": {
    "id": "e742df23"
   },
   "outputs": [],
   "source": [
    "# import seaborn as sns\n",
    "\n",
    "# # Load the Air Passengers dataset\n",
    "# dataset = sns.load_dataset(\"flights\")\n",
    "# passengers = dataset['passengers'].values.astype(float)\n",
    "dataset=pd.read_csv('AirPassengers.csv')\n",
    "\n"
   ]
  },
  {
   "cell_type": "code",
   "execution_count": 3,
   "id": "739e2c21",
   "metadata": {
    "colab": {
     "base_uri": "https://localhost:8080/",
     "height": 206
    },
    "id": "739e2c21",
    "outputId": "8c9f869a-df3e-4b77-b52f-0127e7803e44"
   },
   "outputs": [
    {
     "data": {
      "text/html": [
       "<div>\n",
       "<style scoped>\n",
       "    .dataframe tbody tr th:only-of-type {\n",
       "        vertical-align: middle;\n",
       "    }\n",
       "\n",
       "    .dataframe tbody tr th {\n",
       "        vertical-align: top;\n",
       "    }\n",
       "\n",
       "    .dataframe thead th {\n",
       "        text-align: right;\n",
       "    }\n",
       "</style>\n",
       "<table border=\"1\" class=\"dataframe\">\n",
       "  <thead>\n",
       "    <tr style=\"text-align: right;\">\n",
       "      <th></th>\n",
       "      <th>Month</th>\n",
       "      <th>AirPassengers</th>\n",
       "    </tr>\n",
       "  </thead>\n",
       "  <tbody>\n",
       "    <tr>\n",
       "      <th>0</th>\n",
       "      <td>1949-01</td>\n",
       "      <td>112</td>\n",
       "    </tr>\n",
       "    <tr>\n",
       "      <th>1</th>\n",
       "      <td>1949-02</td>\n",
       "      <td>118</td>\n",
       "    </tr>\n",
       "    <tr>\n",
       "      <th>2</th>\n",
       "      <td>1949-03</td>\n",
       "      <td>132</td>\n",
       "    </tr>\n",
       "    <tr>\n",
       "      <th>3</th>\n",
       "      <td>1949-04</td>\n",
       "      <td>129</td>\n",
       "    </tr>\n",
       "    <tr>\n",
       "      <th>4</th>\n",
       "      <td>1949-05</td>\n",
       "      <td>121</td>\n",
       "    </tr>\n",
       "  </tbody>\n",
       "</table>\n",
       "</div>"
      ],
      "text/plain": [
       "     Month  AirPassengers\n",
       "0  1949-01            112\n",
       "1  1949-02            118\n",
       "2  1949-03            132\n",
       "3  1949-04            129\n",
       "4  1949-05            121"
      ]
     },
     "execution_count": 3,
     "metadata": {},
     "output_type": "execute_result"
    }
   ],
   "source": [
    "dataset.head()"
   ]
  },
  {
   "cell_type": "code",
   "execution_count": 4,
   "id": "ISmmKesj5-ya",
   "metadata": {
    "colab": {
     "base_uri": "https://localhost:8080/"
    },
    "id": "ISmmKesj5-ya",
    "outputId": "17d3bd59-e748-4e21-df3a-4e6e6cb471bc"
   },
   "outputs": [
    {
     "data": {
      "text/plain": [
       "(144, 2)"
      ]
     },
     "execution_count": 4,
     "metadata": {},
     "output_type": "execute_result"
    }
   ],
   "source": [
    "dataset.shape"
   ]
  },
  {
   "cell_type": "code",
   "execution_count": 5,
   "id": "e291b185",
   "metadata": {
    "colab": {
     "base_uri": "https://localhost:8080/",
     "height": 300
    },
    "id": "e291b185",
    "outputId": "66c3b471-13e1-4ce4-91c3-7113e1710494"
   },
   "outputs": [
    {
     "data": {
      "text/html": [
       "<div>\n",
       "<style scoped>\n",
       "    .dataframe tbody tr th:only-of-type {\n",
       "        vertical-align: middle;\n",
       "    }\n",
       "\n",
       "    .dataframe tbody tr th {\n",
       "        vertical-align: top;\n",
       "    }\n",
       "\n",
       "    .dataframe thead th {\n",
       "        text-align: right;\n",
       "    }\n",
       "</style>\n",
       "<table border=\"1\" class=\"dataframe\">\n",
       "  <thead>\n",
       "    <tr style=\"text-align: right;\">\n",
       "      <th></th>\n",
       "      <th>AirPassengers</th>\n",
       "    </tr>\n",
       "  </thead>\n",
       "  <tbody>\n",
       "    <tr>\n",
       "      <th>count</th>\n",
       "      <td>144.000000</td>\n",
       "    </tr>\n",
       "    <tr>\n",
       "      <th>mean</th>\n",
       "      <td>280.298611</td>\n",
       "    </tr>\n",
       "    <tr>\n",
       "      <th>std</th>\n",
       "      <td>119.966317</td>\n",
       "    </tr>\n",
       "    <tr>\n",
       "      <th>min</th>\n",
       "      <td>104.000000</td>\n",
       "    </tr>\n",
       "    <tr>\n",
       "      <th>25%</th>\n",
       "      <td>180.000000</td>\n",
       "    </tr>\n",
       "    <tr>\n",
       "      <th>50%</th>\n",
       "      <td>265.500000</td>\n",
       "    </tr>\n",
       "    <tr>\n",
       "      <th>75%</th>\n",
       "      <td>360.500000</td>\n",
       "    </tr>\n",
       "    <tr>\n",
       "      <th>max</th>\n",
       "      <td>622.000000</td>\n",
       "    </tr>\n",
       "  </tbody>\n",
       "</table>\n",
       "</div>"
      ],
      "text/plain": [
       "       AirPassengers\n",
       "count     144.000000\n",
       "mean      280.298611\n",
       "std       119.966317\n",
       "min       104.000000\n",
       "25%       180.000000\n",
       "50%       265.500000\n",
       "75%       360.500000\n",
       "max       622.000000"
      ]
     },
     "execution_count": 5,
     "metadata": {},
     "output_type": "execute_result"
    }
   ],
   "source": [
    "dataset.describe()"
   ]
  },
  {
   "cell_type": "code",
   "execution_count": 6,
   "id": "366b1420",
   "metadata": {
    "colab": {
     "base_uri": "https://localhost:8080/"
    },
    "id": "366b1420",
    "outputId": "2cad88c7-8de5-4c43-ab12-71d79d0a0c0f"
   },
   "outputs": [
    {
     "data": {
      "text/plain": [
       "144"
      ]
     },
     "execution_count": 6,
     "metadata": {},
     "output_type": "execute_result"
    }
   ],
   "source": [
    "len(dataset)"
   ]
  },
  {
   "cell_type": "code",
   "execution_count": 7,
   "id": "4fd6f604",
   "metadata": {
    "colab": {
     "base_uri": "https://localhost:8080/"
    },
    "id": "4fd6f604",
    "outputId": "10a55c78-1303-42f3-88d7-1912357a6d45"
   },
   "outputs": [
    {
     "data": {
      "text/plain": [
       "Month            object\n",
       "AirPassengers     int64\n",
       "dtype: object"
      ]
     },
     "execution_count": 7,
     "metadata": {},
     "output_type": "execute_result"
    }
   ],
   "source": [
    "dataset.dtypes"
   ]
  },
  {
   "cell_type": "code",
   "execution_count": 8,
   "id": "QXUubBuWnYUd",
   "metadata": {
    "colab": {
     "base_uri": "https://localhost:8080/",
     "height": 237
    },
    "id": "QXUubBuWnYUd",
    "outputId": "e0f2ce5d-8c9c-410b-84a0-54a0fa2eed39"
   },
   "outputs": [
    {
     "data": {
      "text/html": [
       "<div>\n",
       "<style scoped>\n",
       "    .dataframe tbody tr th:only-of-type {\n",
       "        vertical-align: middle;\n",
       "    }\n",
       "\n",
       "    .dataframe tbody tr th {\n",
       "        vertical-align: top;\n",
       "    }\n",
       "\n",
       "    .dataframe thead th {\n",
       "        text-align: right;\n",
       "    }\n",
       "</style>\n",
       "<table border=\"1\" class=\"dataframe\">\n",
       "  <thead>\n",
       "    <tr style=\"text-align: right;\">\n",
       "      <th></th>\n",
       "      <th>passengers</th>\n",
       "    </tr>\n",
       "    <tr>\n",
       "      <th>Date</th>\n",
       "      <th></th>\n",
       "    </tr>\n",
       "  </thead>\n",
       "  <tbody>\n",
       "    <tr>\n",
       "      <th>1949-01-01</th>\n",
       "      <td>112</td>\n",
       "    </tr>\n",
       "    <tr>\n",
       "      <th>1949-02-01</th>\n",
       "      <td>118</td>\n",
       "    </tr>\n",
       "    <tr>\n",
       "      <th>1949-03-01</th>\n",
       "      <td>132</td>\n",
       "    </tr>\n",
       "    <tr>\n",
       "      <th>1949-04-01</th>\n",
       "      <td>129</td>\n",
       "    </tr>\n",
       "    <tr>\n",
       "      <th>1949-05-01</th>\n",
       "      <td>121</td>\n",
       "    </tr>\n",
       "  </tbody>\n",
       "</table>\n",
       "</div>"
      ],
      "text/plain": [
       "            passengers\n",
       "Date                  \n",
       "1949-01-01         112\n",
       "1949-02-01         118\n",
       "1949-03-01         132\n",
       "1949-04-01         129\n",
       "1949-05-01         121"
      ]
     },
     "execution_count": 8,
     "metadata": {},
     "output_type": "execute_result"
    }
   ],
   "source": [
    "dataset.columns = ['Date', 'passengers']\n",
    "dataset['Date'] = pd.to_datetime(dataset['Date'], format='%Y-%m')\n",
    "dataset = dataset.set_index('Date')\n",
    "dataset.head()"
   ]
  },
  {
   "cell_type": "code",
   "execution_count": 9,
   "id": "s9joHaNwmh1y",
   "metadata": {
    "colab": {
     "base_uri": "https://localhost:8080/"
    },
    "id": "s9joHaNwmh1y",
    "outputId": "ad4b2672-e124-441e-e11c-f42f5618c680"
   },
   "outputs": [
    {
     "data": {
      "text/plain": [
       "passengers    int64\n",
       "dtype: object"
      ]
     },
     "execution_count": 9,
     "metadata": {},
     "output_type": "execute_result"
    }
   ],
   "source": [
    "dataset.dtypes"
   ]
  },
  {
   "cell_type": "markdown",
   "id": "140404d3",
   "metadata": {
    "id": "140404d3"
   },
   "source": [
    "## (b) Traçons la série temporelle pour visualiser le nombre de passagers aériens au fil du temps.\n"
   ]
  },
  {
   "cell_type": "code",
   "execution_count": 10,
   "id": "30aded08",
   "metadata": {
    "colab": {
     "base_uri": "https://localhost:8080/",
     "height": 545
    },
    "id": "30aded08",
    "outputId": "ed1c9a6c-d5cf-43ac-8cbf-7c916ba02399"
   },
   "outputs": [
    {
     "data": {
      "image/png": "[encoded data removed]",
      "text/plain": [
       "<Figure size 864x432 with 1 Axes>"
      ]
     },
     "metadata": {
      "needs_background": "light"
     },
     "output_type": "display_data"
    }
   ],
   "source": [
    "plt.figure(figsize=(12, 6))\n",
    "plt.plot(dataset)\n",
    "plt.title(\"Nombre de passagers au fil du temps\")\n",
    "plt.show()"
   ]
  },
  {
   "cell_type": "markdown",
   "id": "985d9a10",
   "metadata": {
    "id": "985d9a10"
   },
   "source": [
    "## (c) Normalisons les données pour les préparer à l’entraînement."
   ]
  },
  {
   "cell_type": "code",
   "execution_count": 11,
   "id": "IGzYgx1XOz6j",
   "metadata": {
    "id": "IGzYgx1XOz6j"
   },
   "outputs": [],
   "source": [
    "from sklearn.preprocessing import MinMaxScaler\n",
    "\n",
    "# Normalisation des données entre 0 et 1\n",
    "scaler = MinMaxScaler()\n",
    "dataset['passengers'] = scaler.fit_transform(dataset['passengers'].values.reshape(-1, 1))\n"
   ]
  },
  {
   "cell_type": "markdown",
   "id": "1f1c0395",
   "metadata": {
    "id": "1f1c0395"
   },
   "source": [
    "# 2. Construction du modèle LSTM"
   ]
  },
  {
   "cell_type": "markdown",
   "id": "c9e9da29",
   "metadata": {
    "id": "c9e9da29"
   },
   "source": [
    "## (a) Réorganisons les données pour qu’elles soient adaptées à un problèmede prédiction de  séries temporelles : utilisons les valeurs des 12 mois précédents pour prédire la valeur du mois suivant."
   ]
  },
  {
   "cell_type": "code",
   "execution_count": 12,
   "id": "5ca245c5",
   "metadata": {
    "id": "5ca245c5"
   },
   "outputs": [],
   "source": [
    "import numpy as np\n",
    "\n",
    "# Définissez la longueur de la séquence (12 mois)\n",
    "sequence_length = 12\n",
    "\n",
    "# Fonction pour créer les séquences\n",
    "def create_sequences(data, sequence_length):\n",
    "    X, Y = [], []\n",
    "    for i in range(len(data) - sequence_length):\n",
    "        X.append(data[i:i+sequence_length])\n",
    "        Y.append(data[i+sequence_length])\n",
    "    return np.array(X), np.array(Y)\n",
    "\n",
    "# Appliquez la fonction aux données \"passengers\"\n",
    "X, Y = create_sequences(dataset['passengers'].values, sequence_length)\n",
    "\n"
   ]
  },
  {
   "cell_type": "markdown",
   "id": "0712d9c7",
   "metadata": {
    "id": "0712d9c7"
   },
   "source": [
    "## (b) Divisons les données en ensembles d’entraînement et de test"
   ]
  },
  {
   "cell_type": "code",
   "execution_count": 13,
   "id": "f145450b",
   "metadata": {
    "id": "f145450b"
   },
   "outputs": [],
   "source": [
    "# Définissez la taille de l'ensemble d'entraînement (par exemple, 80%)\n",
    "train_size = int(len(X) * 0.8)\n",
    "\n",
    "# Divisez les données en ensembles d'entraînement et de test\n",
    "X_train, X_test = X[:train_size], X[train_size:]\n",
    "Y_train, Y_test = Y[:train_size], Y[train_size:]\n",
    "\n",
    "\n",
    "X_train = X_train.reshape(X_train.shape[0], X_train.shape[1])\n",
    "X_test = X_test.reshape(X_test.shape[0], X_test.shape[1])\n"
   ]
  },
  {
   "cell_type": "markdown",
   "id": "18fd7067",
   "metadata": {
    "id": "18fd7067"
   },
   "source": [
    "## (c) Construisons un modèle LSTM avec Keras ayant les caractéristiques suivantes:\n",
    "• Une couche LSTM avec 50 unités et une fonction d’activation\n",
    "’relu’.\n",
    "• Une couche Dense pour la prédiction.\n"
   ]
  },
  {
   "cell_type": "code",
   "execution_count": 14,
   "id": "4c62b81d",
   "metadata": {
    "id": "4c62b81d"
   },
   "outputs": [],
   "source": [
    "model = Sequential()\n",
    "model.add(LSTM(50, activation='relu', input_shape=(sequence_length, 1)))\n",
    "model.add(Dense(1))\n"
   ]
  },
  {
   "cell_type": "markdown",
   "id": "8aa5360e",
   "metadata": {
    "id": "8aa5360e"
   },
   "source": [
    "## (d) Compilons et entraînons le modèle en utilisant l’erreur quadratique moyenne (mean squared error) comme fonction de perte."
   ]
  },
  {
   "cell_type": "code",
   "execution_count": 15,
   "id": "42e1d9fa",
   "metadata": {
    "colab": {
     "base_uri": "https://localhost:8080/"
    },
    "id": "42e1d9fa",
    "outputId": "635758bd-1a2e-4b13-c94a-b0bf73e42bd9"
   },
   "outputs": [
    {
     "name": "stdout",
     "output_type": "stream",
     "text": [
      "Epoch 1/100\n",
      "105/105 - 2s - loss: 0.0253 - 2s/epoch - 22ms/step\n",
      "Epoch 2/100\n",
      "105/105 - 1s - loss: 0.0083 - 548ms/epoch - 5ms/step\n",
      "Epoch 3/100\n",
      "105/105 - 1s - loss: 0.0070 - 645ms/epoch - 6ms/step\n",
      "Epoch 4/100\n",
      "105/105 - 1s - loss: 0.0074 - 712ms/epoch - 7ms/step\n",
      "Epoch 5/100\n",
      "105/105 - 1s - loss: 0.0061 - 619ms/epoch - 6ms/step\n",
      "Epoch 6/100\n",
      "105/105 - 1s - loss: 0.0055 - 672ms/epoch - 6ms/step\n",
      "Epoch 7/100\n",
      "105/105 - 1s - loss: 0.0060 - 646ms/epoch - 6ms/step\n",
      "Epoch 8/100\n",
      "105/105 - 1s - loss: 0.0058 - 647ms/epoch - 6ms/step\n",
      "Epoch 9/100\n",
      "105/105 - 1s - loss: 0.0047 - 639ms/epoch - 6ms/step\n",
      "Epoch 10/100\n",
      "105/105 - 1s - loss: 0.0052 - 621ms/epoch - 6ms/step\n",
      "Epoch 11/100\n",
      "105/105 - 1s - loss: 0.0049 - 612ms/epoch - 6ms/step\n",
      "Epoch 12/100\n",
      "105/105 - 1s - loss: 0.0038 - 608ms/epoch - 6ms/step\n",
      "Epoch 13/100\n",
      "105/105 - 1s - loss: 0.0040 - 609ms/epoch - 6ms/step\n",
      "Epoch 14/100\n",
      "105/105 - 1s - loss: 0.0037 - 811ms/epoch - 8ms/step\n",
      "Epoch 15/100\n",
      "105/105 - 1s - loss: 0.0030 - 581ms/epoch - 6ms/step\n",
      "Epoch 16/100\n",
      "105/105 - 1s - loss: 0.0029 - 630ms/epoch - 6ms/step\n",
      "Epoch 17/100\n",
      "105/105 - 1s - loss: 0.0031 - 605ms/epoch - 6ms/step\n",
      "Epoch 18/100\n",
      "105/105 - 1s - loss: 0.0025 - 517ms/epoch - 5ms/step\n",
      "Epoch 19/100\n",
      "105/105 - 1s - loss: 0.0019 - 519ms/epoch - 5ms/step\n",
      "Epoch 20/100\n",
      "105/105 - 0s - loss: 0.0019 - 483ms/epoch - 5ms/step\n",
      "Epoch 21/100\n",
      "105/105 - 0s - loss: 0.0021 - 498ms/epoch - 5ms/step\n",
      "Epoch 22/100\n",
      "105/105 - 0s - loss: 0.0023 - 478ms/epoch - 5ms/step\n",
      "Epoch 23/100\n",
      "105/105 - 0s - loss: 0.0020 - 463ms/epoch - 4ms/step\n",
      "Epoch 24/100\n",
      "105/105 - 0s - loss: 0.0022 - 485ms/epoch - 5ms/step\n",
      "Epoch 25/100\n",
      "105/105 - 0s - loss: 0.0015 - 458ms/epoch - 4ms/step\n",
      "Epoch 26/100\n",
      "105/105 - 0s - loss: 0.0013 - 467ms/epoch - 4ms/step\n",
      "Epoch 27/100\n",
      "105/105 - 0s - loss: 0.0013 - 480ms/epoch - 5ms/step\n",
      "Epoch 28/100\n",
      "105/105 - 0s - loss: 0.0012 - 480ms/epoch - 5ms/step\n",
      "Epoch 29/100\n",
      "105/105 - 0s - loss: 0.0014 - 489ms/epoch - 5ms/step\n",
      "Epoch 30/100\n",
      "105/105 - 0s - loss: 0.0012 - 463ms/epoch - 4ms/step\n",
      "Epoch 31/100\n",
      "105/105 - 0s - loss: 0.0017 - 469ms/epoch - 4ms/step\n",
      "Epoch 32/100\n",
      "105/105 - 0s - loss: 0.0017 - 471ms/epoch - 4ms/step\n",
      "Epoch 33/100\n",
      "105/105 - 0s - loss: 0.0013 - 490ms/epoch - 5ms/step\n",
      "Epoch 34/100\n",
      "105/105 - 1s - loss: 0.0013 - 511ms/epoch - 5ms/step\n",
      "Epoch 35/100\n",
      "105/105 - 0s - loss: 0.0011 - 484ms/epoch - 5ms/step\n",
      "Epoch 36/100\n",
      "105/105 - 1s - loss: 0.0014 - 523ms/epoch - 5ms/step\n",
      "Epoch 37/100\n",
      "105/105 - 1s - loss: 0.0015 - 568ms/epoch - 5ms/step\n",
      "Epoch 38/100\n",
      "105/105 - 1s - loss: 0.0015 - 624ms/epoch - 6ms/step\n",
      "Epoch 39/100\n",
      "105/105 - 1s - loss: 0.0014 - 633ms/epoch - 6ms/step\n",
      "Epoch 40/100\n",
      "105/105 - 1s - loss: 0.0011 - 640ms/epoch - 6ms/step\n",
      "Epoch 41/100\n",
      "105/105 - 1s - loss: 0.0012 - 624ms/epoch - 6ms/step\n",
      "Epoch 42/100\n",
      "105/105 - 1s - loss: 9.9086e-04 - 642ms/epoch - 6ms/step\n",
      "Epoch 43/100\n",
      "105/105 - 1s - loss: 0.0013 - 603ms/epoch - 6ms/step\n",
      "Epoch 44/100\n",
      "105/105 - 1s - loss: 0.0011 - 601ms/epoch - 6ms/step\n",
      "Epoch 45/100\n",
      "105/105 - 1s - loss: 0.0017 - 624ms/epoch - 6ms/step\n",
      "Epoch 46/100\n",
      "105/105 - 1s - loss: 0.0015 - 599ms/epoch - 6ms/step\n",
      "Epoch 47/100\n",
      "105/105 - 1s - loss: 0.0012 - 761ms/epoch - 7ms/step\n",
      "Epoch 48/100\n",
      "105/105 - 1s - loss: 0.0013 - 501ms/epoch - 5ms/step\n",
      "Epoch 49/100\n",
      "105/105 - 1s - loss: 0.0011 - 525ms/epoch - 5ms/step\n",
      "Epoch 50/100\n",
      "105/105 - 1s - loss: 0.0010 - 572ms/epoch - 5ms/step\n",
      "Epoch 51/100\n",
      "105/105 - 0s - loss: 0.0012 - 487ms/epoch - 5ms/step\n",
      "Epoch 52/100\n",
      "105/105 - 0s - loss: 0.0018 - 485ms/epoch - 5ms/step\n",
      "Epoch 53/100\n",
      "105/105 - 0s - loss: 0.0012 - 476ms/epoch - 5ms/step\n",
      "Epoch 54/100\n",
      "105/105 - 0s - loss: 0.0011 - 475ms/epoch - 5ms/step\n",
      "Epoch 55/100\n",
      "105/105 - 1s - loss: 0.0012 - 588ms/epoch - 6ms/step\n",
      "Epoch 56/100\n",
      "105/105 - 1s - loss: 0.0012 - 548ms/epoch - 5ms/step\n",
      "Epoch 57/100\n",
      "105/105 - 1s - loss: 0.0011 - 515ms/epoch - 5ms/step\n",
      "Epoch 58/100\n",
      "105/105 - 0s - loss: 0.0011 - 469ms/epoch - 4ms/step\n",
      "Epoch 59/100\n",
      "105/105 - 0s - loss: 0.0012 - 428ms/epoch - 4ms/step\n",
      "Epoch 60/100\n",
      "105/105 - 0s - loss: 9.2324e-04 - 459ms/epoch - 4ms/step\n",
      "Epoch 61/100\n",
      "105/105 - 0s - loss: 0.0013 - 455ms/epoch - 4ms/step\n",
      "Epoch 62/100\n",
      "105/105 - 0s - loss: 9.5577e-04 - 467ms/epoch - 4ms/step\n",
      "Epoch 63/100\n",
      "105/105 - 0s - loss: 0.0011 - 474ms/epoch - 5ms/step\n",
      "Epoch 64/100\n",
      "105/105 - 1s - loss: 0.0012 - 553ms/epoch - 5ms/step\n",
      "Epoch 65/100\n",
      "105/105 - 0s - loss: 0.0011 - 454ms/epoch - 4ms/step\n",
      "Epoch 66/100\n",
      "105/105 - 0s - loss: 0.0016 - 468ms/epoch - 4ms/step\n",
      "Epoch 67/100\n",
      "105/105 - 1s - loss: 0.0010 - 630ms/epoch - 6ms/step\n",
      "Epoch 68/100\n",
      "105/105 - 1s - loss: 9.8488e-04 - 567ms/epoch - 5ms/step\n",
      "Epoch 69/100\n",
      "105/105 - 1s - loss: 0.0012 - 613ms/epoch - 6ms/step\n",
      "Epoch 70/100\n",
      "105/105 - 1s - loss: 9.5082e-04 - 572ms/epoch - 5ms/step\n",
      "Epoch 71/100\n",
      "105/105 - 1s - loss: 0.0010 - 634ms/epoch - 6ms/step\n",
      "Epoch 72/100\n",
      "105/105 - 1s - loss: 9.7769e-04 - 607ms/epoch - 6ms/step\n",
      "Epoch 73/100\n",
      "105/105 - 1s - loss: 0.0010 - 601ms/epoch - 6ms/step\n",
      "Epoch 74/100\n",
      "105/105 - 1s - loss: 9.1051e-04 - 618ms/epoch - 6ms/step\n",
      "Epoch 75/100\n",
      "105/105 - 1s - loss: 0.0011 - 632ms/epoch - 6ms/step\n",
      "Epoch 76/100\n",
      "105/105 - 1s - loss: 0.0011 - 587ms/epoch - 6ms/step\n",
      "Epoch 77/100\n",
      "105/105 - 1s - loss: 8.6049e-04 - 506ms/epoch - 5ms/step\n",
      "Epoch 78/100\n",
      "105/105 - 0s - loss: 8.2237e-04 - 445ms/epoch - 4ms/step\n",
      "Epoch 79/100\n",
      "105/105 - 0s - loss: 9.1747e-04 - 447ms/epoch - 4ms/step\n",
      "Epoch 80/100\n",
      "105/105 - 0s - loss: 0.0011 - 454ms/epoch - 4ms/step\n",
      "Epoch 81/100\n",
      "105/105 - 1s - loss: 0.0010 - 621ms/epoch - 6ms/step\n",
      "Epoch 82/100\n",
      "105/105 - 0s - loss: 0.0010 - 438ms/epoch - 4ms/step\n",
      "Epoch 83/100\n",
      "105/105 - 0s - loss: 0.0010 - 450ms/epoch - 4ms/step\n",
      "Epoch 84/100\n",
      "105/105 - 0s - loss: 8.4954e-04 - 442ms/epoch - 4ms/step\n",
      "Epoch 85/100\n",
      "105/105 - 0s - loss: 0.0011 - 438ms/epoch - 4ms/step\n",
      "Epoch 86/100\n",
      "105/105 - 0s - loss: 9.2137e-04 - 447ms/epoch - 4ms/step\n",
      "Epoch 87/100\n",
      "105/105 - 0s - loss: 0.0011 - 458ms/epoch - 4ms/step\n",
      "Epoch 88/100\n",
      "105/105 - 0s - loss: 0.0012 - 464ms/epoch - 4ms/step\n",
      "Epoch 89/100\n",
      "105/105 - 0s - loss: 0.0010 - 470ms/epoch - 4ms/step\n",
      "Epoch 90/100\n",
      "105/105 - 0s - loss: 0.0013 - 460ms/epoch - 4ms/step\n",
      "Epoch 91/100\n",
      "105/105 - 0s - loss: 0.0014 - 477ms/epoch - 5ms/step\n",
      "Epoch 92/100\n",
      "105/105 - 0s - loss: 0.0011 - 473ms/epoch - 5ms/step\n",
      "Epoch 93/100\n",
      "105/105 - 0s - loss: 7.1886e-04 - 457ms/epoch - 4ms/step\n",
      "Epoch 94/100\n",
      "105/105 - 0s - loss: 8.3650e-04 - 484ms/epoch - 5ms/step\n",
      "Epoch 95/100\n",
      "105/105 - 1s - loss: 0.0011 - 543ms/epoch - 5ms/step\n",
      "Epoch 96/100\n",
      "105/105 - 1s - loss: 8.8170e-04 - 682ms/epoch - 6ms/step\n",
      "Epoch 97/100\n",
      "105/105 - 1s - loss: 8.2351e-04 - 1s/epoch - 10ms/step\n",
      "Epoch 98/100\n",
      "105/105 - 1s - loss: 8.9596e-04 - 575ms/epoch - 5ms/step\n",
      "Epoch 99/100\n",
      "105/105 - 0s - loss: 8.3143e-04 - 467ms/epoch - 4ms/step\n",
      "Epoch 100/100\n",
      "105/105 - 0s - loss: 9.9139e-04 - 450ms/epoch - 4ms/step\n"
     ]
    },
    {
     "data": {
      "text/plain": [
       "<keras.callbacks.History at 0x2337c778670>"
      ]
     },
     "execution_count": 15,
     "metadata": {},
     "output_type": "execute_result"
    }
   ],
   "source": [
    "# Compilez le modèle avec la perte MSE (Mean Squared Error)\n",
    "model.compile(loss='mean_squared_error', optimizer='adam')\n",
    "\n",
    "\n",
    "model.fit(X_train, Y_train, epochs=100, batch_size=1, verbose=2)"
   ]
  },
  {
   "cell_type": "code",
   "execution_count": 16,
   "id": "3mTgoiLHG6ye",
   "metadata": {
    "colab": {
     "base_uri": "https://localhost:8080/",
     "height": 448
    },
    "id": "3mTgoiLHG6ye",
    "outputId": "9e74bca4-f8cc-4650-a544-514d663b06f1"
   },
   "outputs": [
    {
     "data": {
      "text/plain": [
       "[<matplotlib.lines.Line2D at 0x2337fda15b0>]"
      ]
     },
     "execution_count": 16,
     "metadata": {},
     "output_type": "execute_result"
    },
    {
     "data": {
      "image/png": "[encoded data removed]",
      "text/plain": [
       "<Figure size 432x288 with 1 Axes>"
      ]
     },
     "metadata": {
      "needs_background": "light"
     },
     "output_type": "display_data"
    }
   ],
   "source": [
    "loss_per_epoch = model.history.history['loss']\n",
    "plt.plot(range(len(loss_per_epoch)),loss_per_epoch)"
   ]
  },
  {
   "cell_type": "markdown",
   "id": "0e47fc05",
   "metadata": {
    "id": "0e47fc05"
   },
   "source": [
    "# 3. Evaluation du modèle"
   ]
  },
  {
   "cell_type": "markdown",
   "id": "ca7e9b36",
   "metadata": {
    "id": "ca7e9b36"
   },
   "source": [
    "## (a) Utilisons le modèle pour prédire les valeurs de l’ensemble de test"
   ]
  },
  {
   "cell_type": "code",
   "execution_count": 17,
   "id": "4c9f4a67",
   "metadata": {
    "colab": {
     "base_uri": "https://localhost:8080/"
    },
    "id": "4c9f4a67",
    "outputId": "c40ad9c7-ec33-4db1-9c65-7202d47dc4f5"
   },
   "outputs": [
    {
     "name": "stdout",
     "output_type": "stream",
     "text": [
      "1/1 [==============================] - 0s 390ms/step\n"
     ]
    }
   ],
   "source": [
    "\n",
    "Predicted_values = model.predict(X_test)\n"
   ]
  },
  {
   "cell_type": "code",
   "execution_count": 18,
   "id": "3RfpODggYhur",
   "metadata": {
    "colab": {
     "base_uri": "https://localhost:8080/"
    },
    "id": "3RfpODggYhur",
    "outputId": "27c6796e-859c-49b9-bf50-efc59e0475b7"
   },
   "outputs": [
    {
     "data": {
      "text/plain": [
       "(27, 1)"
      ]
     },
     "execution_count": 18,
     "metadata": {},
     "output_type": "execute_result"
    }
   ],
   "source": [
    "Predicted_values.shape"
   ]
  },
  {
   "cell_type": "markdown",
   "id": "0f910848",
   "metadata": {
    "id": "0f910848"
   },
   "source": [
    "## (b) Transformons les valeurs prédites en leur échelle d’origine (inverse de la normalisation)."
   ]
  },
  {
   "cell_type": "code",
   "execution_count": 19,
   "id": "8nNAoytJqLTS",
   "metadata": {
    "id": "8nNAoytJqLTS"
   },
   "outputs": [],
   "source": [
    "Y_train_tf = scaler.inverse_transform(Y_train.reshape(-1, 1))\n",
    "Y_test_tf = scaler.inverse_transform(Y_test.reshape(-1, 1))\n"
   ]
  },
  {
   "cell_type": "code",
   "execution_count": 20,
   "id": "a41ae1a8",
   "metadata": {
    "id": "a41ae1a8"
   },
   "outputs": [],
   "source": [
    "\n",
    "predict_values = scaler.inverse_transform(Predicted_values)\n"
   ]
  },
  {
   "cell_type": "markdown",
   "id": "2d89beb3",
   "metadata": {
    "id": "2d89beb3"
   },
   "source": [
    "## (c) Calculons et affichons l’erreur quadratique moyenne (MSE) sur l’ensemble de test.\n"
   ]
  },
  {
   "cell_type": "code",
   "execution_count": 21,
   "id": "3a84dd80",
   "metadata": {
    "colab": {
     "base_uri": "https://localhost:8080/"
    },
    "id": "3a84dd80",
    "outputId": "2d28e895-37f6-4523-ae62-1aa584374bdc"
   },
   "outputs": [
    {
     "name": "stdout",
     "output_type": "stream",
     "text": [
      "Mean Squared Error (MSE): 1211.6563437662467\n"
     ]
    }
   ],
   "source": [
    "\n",
    "mse = mean_squared_error(Y_test_tf, predict_values)\n",
    "print(f'Mean Squared Error (MSE): {mse}')\n"
   ]
  },
  {
   "cell_type": "markdown",
   "id": "008811e7",
   "metadata": {
    "id": "008811e7"
   },
   "source": [
    "## (d) Traçons les valeurs réelles et les valeurs prédites du nombre de passagers aériens pour visualiser la performance du modèle"
   ]
  },
  {
   "cell_type": "code",
   "execution_count": 22,
   "id": "JRN37EG2s-AG",
   "metadata": {
    "colab": {
     "base_uri": "https://localhost:8080/",
     "height": 564
    },
    "id": "JRN37EG2s-AG",
    "outputId": "b5ec72b7-15d4-496f-d5d2-78d279d48044"
   },
   "outputs": [
    {
     "data": {
      "image/png": "[encoded data removed]",
      "text/plain": [
       "<Figure size 864x432 with 1 Axes>"
      ]
     },
     "metadata": {
      "needs_background": "light"
     },
     "output_type": "display_data"
    }
   ],
   "source": [
    "import matplotlib.pyplot as plt\n",
    "# Tracez les valeurs réelles et prédites en fonction de la date\n",
    "plt.figure(figsize=(12, 6))\n",
    "plt.plot(Y_test_tf, label='Valeurs réelles', marker='o')\n",
    "plt.plot(predict_values, label='Valeurs prédites', linestyle='--', marker='x')\n",
    "plt.title('Performance du modèle LSTM')\n",
    "plt.xlabel('Date')\n",
    "plt.ylabel('Nombre de passagers')\n",
    "plt.legend()\n",
    "plt.show()\n"
   ]
  },
  {
   "cell_type": "markdown",
   "id": "0d032760",
   "metadata": {
    "id": "0d032760"
   },
   "source": [
    "# 4. Amélioration du modèle"
   ]
  },
  {
   "cell_type": "markdown",
   "id": "cd9b11ea",
   "metadata": {
    "id": "cd9b11ea"
   },
   "source": [
    "## (a) Essayons d’améliorer les performances du modèle en ajustant différents paramètres tels que:\n",
    "• Nombre d’unités LSTM.\n",
    "• Nombre de couches LSTM.\n",
    "• Type d’optimiseur et taux d’apprentissage"
   ]
  },
  {
   "cell_type": "markdown",
   "id": "37siNTfk31Op",
   "metadata": {
    "id": "37siNTfk31Op"
   },
   "source": [
    "#### Essai 1\n",
    "-Nombre Couche=2  et augmentation des unités LSTM de la prémière couche"
   ]
  },
  {
   "cell_type": "code",
   "execution_count": 23,
   "id": "f16b392f",
   "metadata": {
    "id": "f16b392f"
   },
   "outputs": [],
   "source": [
    "model = Sequential()\n",
    "model.add(LSTM(100, activation='relu', input_shape=(sequence_length, 1),return_sequences=True))\n",
    "model.add(LSTM(50, activation='relu'))\n",
    "model.add(Dense(1))\n",
    "\n",
    "# Compilez le modèle\n",
    "model.compile(loss='mean_squared_error', optimizer='adam')\n"
   ]
  },
  {
   "cell_type": "code",
   "execution_count": 24,
   "id": "9bffb891",
   "metadata": {
    "colab": {
     "base_uri": "https://localhost:8080/"
    },
    "id": "9bffb891",
    "outputId": "49eedaf5-cea5-4bc9-b0ab-d1119a34b9c4"
   },
   "outputs": [
    {
     "name": "stdout",
     "output_type": "stream",
     "text": [
      "Epoch 1/100\n",
      "7/7 - 21s - loss: 0.0929 - 21s/epoch - 3s/step\n",
      "Epoch 2/100\n",
      "7/7 - 0s - loss: 0.0479 - 171ms/epoch - 24ms/step\n",
      "Epoch 3/100\n",
      "7/7 - 0s - loss: 0.0173 - 229ms/epoch - 33ms/step\n",
      "Epoch 4/100\n",
      "7/7 - 0s - loss: 0.0104 - 167ms/epoch - 24ms/step\n",
      "Epoch 5/100\n",
      "7/7 - 0s - loss: 0.0129 - 181ms/epoch - 26ms/step\n",
      "Epoch 6/100\n",
      "7/7 - 0s - loss: 0.0093 - 223ms/epoch - 32ms/step\n",
      "Epoch 7/100\n",
      "7/7 - 0s - loss: 0.0082 - 205ms/epoch - 29ms/step\n",
      "Epoch 8/100\n",
      "7/7 - 0s - loss: 0.0080 - 197ms/epoch - 28ms/step\n",
      "Epoch 9/100\n",
      "7/7 - 0s - loss: 0.0070 - 239ms/epoch - 34ms/step\n",
      "Epoch 10/100\n",
      "7/7 - 0s - loss: 0.0065 - 220ms/epoch - 31ms/step\n",
      "Epoch 11/100\n",
      "7/7 - 0s - loss: 0.0064 - 184ms/epoch - 26ms/step\n",
      "Epoch 12/100\n",
      "7/7 - 0s - loss: 0.0062 - 202ms/epoch - 29ms/step\n",
      "Epoch 13/100\n",
      "7/7 - 0s - loss: 0.0061 - 165ms/epoch - 24ms/step\n",
      "Epoch 14/100\n",
      "7/7 - 0s - loss: 0.0065 - 202ms/epoch - 29ms/step\n",
      "Epoch 15/100\n",
      "7/7 - 0s - loss: 0.0060 - 186ms/epoch - 27ms/step\n",
      "Epoch 16/100\n",
      "7/7 - 0s - loss: 0.0062 - 192ms/epoch - 27ms/step\n",
      "Epoch 17/100\n",
      "7/7 - 0s - loss: 0.0056 - 254ms/epoch - 36ms/step\n",
      "Epoch 18/100\n",
      "7/7 - 0s - loss: 0.0062 - 317ms/epoch - 45ms/step\n",
      "Epoch 19/100\n",
      "7/7 - 0s - loss: 0.0058 - 166ms/epoch - 24ms/step\n",
      "Epoch 20/100\n",
      "7/7 - 0s - loss: 0.0054 - 165ms/epoch - 24ms/step\n",
      "Epoch 21/100\n",
      "7/7 - 0s - loss: 0.0053 - 185ms/epoch - 26ms/step\n",
      "Epoch 22/100\n",
      "7/7 - 0s - loss: 0.0054 - 169ms/epoch - 24ms/step\n",
      "Epoch 23/100\n",
      "7/7 - 0s - loss: 0.0053 - 136ms/epoch - 19ms/step\n",
      "Epoch 24/100\n",
      "7/7 - 0s - loss: 0.0052 - 154ms/epoch - 22ms/step\n",
      "Epoch 25/100\n",
      "7/7 - 0s - loss: 0.0049 - 158ms/epoch - 23ms/step\n",
      "Epoch 26/100\n",
      "7/7 - 0s - loss: 0.0048 - 213ms/epoch - 30ms/step\n",
      "Epoch 27/100\n",
      "7/7 - 0s - loss: 0.0048 - 230ms/epoch - 33ms/step\n",
      "Epoch 28/100\n",
      "7/7 - 0s - loss: 0.0043 - 196ms/epoch - 28ms/step\n",
      "Epoch 29/100\n",
      "7/7 - 0s - loss: 0.0042 - 186ms/epoch - 27ms/step\n",
      "Epoch 30/100\n",
      "7/7 - 0s - loss: 0.0046 - 157ms/epoch - 22ms/step\n",
      "Epoch 31/100\n",
      "7/7 - 0s - loss: 0.0037 - 237ms/epoch - 34ms/step\n",
      "Epoch 32/100\n",
      "7/7 - 0s - loss: 0.0033 - 155ms/epoch - 22ms/step\n",
      "Epoch 33/100\n",
      "7/7 - 0s - loss: 0.0033 - 186ms/epoch - 27ms/step\n",
      "Epoch 34/100\n",
      "7/7 - 0s - loss: 0.0042 - 210ms/epoch - 30ms/step\n",
      "Epoch 35/100\n",
      "7/7 - 0s - loss: 0.0035 - 173ms/epoch - 25ms/step\n",
      "Epoch 36/100\n",
      "7/7 - 0s - loss: 0.0027 - 148ms/epoch - 21ms/step\n",
      "Epoch 37/100\n",
      "7/7 - 0s - loss: 0.0029 - 204ms/epoch - 29ms/step\n",
      "Epoch 38/100\n",
      "7/7 - 0s - loss: 0.0030 - 138ms/epoch - 20ms/step\n",
      "Epoch 39/100\n",
      "7/7 - 0s - loss: 0.0030 - 230ms/epoch - 33ms/step\n",
      "Epoch 40/100\n",
      "7/7 - 0s - loss: 0.0031 - 144ms/epoch - 21ms/step\n",
      "Epoch 41/100\n",
      "7/7 - 0s - loss: 0.0043 - 207ms/epoch - 30ms/step\n",
      "Epoch 42/100\n",
      "7/7 - 0s - loss: 0.0027 - 150ms/epoch - 21ms/step\n",
      "Epoch 43/100\n",
      "7/7 - 0s - loss: 0.0026 - 177ms/epoch - 25ms/step\n",
      "Epoch 44/100\n",
      "7/7 - 0s - loss: 0.0023 - 135ms/epoch - 19ms/step\n",
      "Epoch 45/100\n",
      "7/7 - 0s - loss: 0.0023 - 168ms/epoch - 24ms/step\n",
      "Epoch 46/100\n",
      "7/7 - 0s - loss: 0.0018 - 135ms/epoch - 19ms/step\n",
      "Epoch 47/100\n",
      "7/7 - 0s - loss: 0.0016 - 189ms/epoch - 27ms/step\n",
      "Epoch 48/100\n",
      "7/7 - 0s - loss: 0.0014 - 140ms/epoch - 20ms/step\n",
      "Epoch 49/100\n",
      "7/7 - 0s - loss: 0.0014 - 229ms/epoch - 33ms/step\n",
      "Epoch 50/100\n",
      "7/7 - 0s - loss: 0.0018 - 164ms/epoch - 23ms/step\n",
      "Epoch 51/100\n",
      "7/7 - 0s - loss: 0.0015 - 166ms/epoch - 24ms/step\n",
      "Epoch 52/100\n",
      "7/7 - 0s - loss: 0.0027 - 157ms/epoch - 22ms/step\n",
      "Epoch 53/100\n",
      "7/7 - 0s - loss: 0.0020 - 143ms/epoch - 20ms/step\n",
      "Epoch 54/100\n",
      "7/7 - 0s - loss: 0.0015 - 241ms/epoch - 34ms/step\n",
      "Epoch 55/100\n",
      "7/7 - 0s - loss: 0.0014 - 164ms/epoch - 23ms/step\n",
      "Epoch 56/100\n",
      "7/7 - 0s - loss: 0.0014 - 153ms/epoch - 22ms/step\n",
      "Epoch 57/100\n",
      "7/7 - 0s - loss: 0.0016 - 192ms/epoch - 27ms/step\n",
      "Epoch 58/100\n",
      "7/7 - 0s - loss: 0.0012 - 141ms/epoch - 20ms/step\n",
      "Epoch 59/100\n",
      "7/7 - 0s - loss: 0.0018 - 226ms/epoch - 32ms/step\n",
      "Epoch 60/100\n",
      "7/7 - 0s - loss: 0.0013 - 137ms/epoch - 20ms/step\n",
      "Epoch 61/100\n",
      "7/7 - 0s - loss: 0.0013 - 182ms/epoch - 26ms/step\n",
      "Epoch 62/100\n",
      "7/7 - 0s - loss: 0.0015 - 140ms/epoch - 20ms/step\n",
      "Epoch 63/100\n",
      "7/7 - 0s - loss: 0.0012 - 133ms/epoch - 19ms/step\n",
      "Epoch 64/100\n",
      "7/7 - 0s - loss: 0.0015 - 127ms/epoch - 18ms/step\n",
      "Epoch 65/100\n",
      "7/7 - 0s - loss: 0.0013 - 202ms/epoch - 29ms/step\n",
      "Epoch 66/100\n",
      "7/7 - 0s - loss: 0.0011 - 130ms/epoch - 19ms/step\n",
      "Epoch 67/100\n",
      "7/7 - 0s - loss: 0.0013 - 125ms/epoch - 18ms/step\n",
      "Epoch 68/100\n",
      "7/7 - 0s - loss: 0.0013 - 153ms/epoch - 22ms/step\n",
      "Epoch 69/100\n",
      "7/7 - 0s - loss: 0.0011 - 165ms/epoch - 24ms/step\n",
      "Epoch 70/100\n",
      "7/7 - 0s - loss: 9.3322e-04 - 165ms/epoch - 24ms/step\n",
      "Epoch 71/100\n",
      "7/7 - 0s - loss: 0.0011 - 129ms/epoch - 18ms/step\n",
      "Epoch 72/100\n",
      "7/7 - 0s - loss: 0.0012 - 136ms/epoch - 19ms/step\n",
      "Epoch 73/100\n",
      "7/7 - 0s - loss: 0.0011 - 174ms/epoch - 25ms/step\n",
      "Epoch 74/100\n",
      "7/7 - 0s - loss: 9.7730e-04 - 141ms/epoch - 20ms/step\n",
      "Epoch 75/100\n",
      "7/7 - 0s - loss: 9.1556e-04 - 131ms/epoch - 19ms/step\n",
      "Epoch 76/100\n",
      "7/7 - 0s - loss: 0.0011 - 176ms/epoch - 25ms/step\n",
      "Epoch 77/100\n",
      "7/7 - 0s - loss: 9.8833e-04 - 144ms/epoch - 21ms/step\n",
      "Epoch 78/100\n",
      "7/7 - 0s - loss: 9.0786e-04 - 135ms/epoch - 19ms/step\n",
      "Epoch 79/100\n",
      "7/7 - 0s - loss: 0.0010 - 142ms/epoch - 20ms/step\n",
      "Epoch 80/100\n",
      "7/7 - 0s - loss: 0.0016 - 140ms/epoch - 20ms/step\n",
      "Epoch 81/100\n",
      "7/7 - 0s - loss: 0.0013 - 138ms/epoch - 20ms/step\n",
      "Epoch 82/100\n",
      "7/7 - 0s - loss: 0.0015 - 136ms/epoch - 19ms/step\n",
      "Epoch 83/100\n",
      "7/7 - 0s - loss: 0.0010 - 129ms/epoch - 18ms/step\n",
      "Epoch 84/100\n",
      "7/7 - 0s - loss: 8.9854e-04 - 120ms/epoch - 17ms/step\n",
      "Epoch 85/100\n",
      "7/7 - 0s - loss: 8.5496e-04 - 125ms/epoch - 18ms/step\n",
      "Epoch 86/100\n",
      "7/7 - 0s - loss: 0.0018 - 130ms/epoch - 19ms/step\n",
      "Epoch 87/100\n",
      "7/7 - 0s - loss: 0.0013 - 171ms/epoch - 24ms/step\n",
      "Epoch 88/100\n",
      "7/7 - 0s - loss: 0.0011 - 158ms/epoch - 23ms/step\n",
      "Epoch 89/100\n",
      "7/7 - 0s - loss: 8.5170e-04 - 182ms/epoch - 26ms/step\n",
      "Epoch 90/100\n",
      "7/7 - 0s - loss: 7.7931e-04 - 127ms/epoch - 18ms/step\n",
      "Epoch 91/100\n",
      "7/7 - 0s - loss: 0.0014 - 129ms/epoch - 18ms/step\n",
      "Epoch 92/100\n",
      "7/7 - 0s - loss: 0.0012 - 135ms/epoch - 19ms/step\n",
      "Epoch 93/100\n",
      "7/7 - 0s - loss: 9.3420e-04 - 136ms/epoch - 19ms/step\n",
      "Epoch 94/100\n",
      "7/7 - 0s - loss: 0.0011 - 132ms/epoch - 19ms/step\n",
      "Epoch 95/100\n",
      "7/7 - 0s - loss: 8.3635e-04 - 125ms/epoch - 18ms/step\n",
      "Epoch 96/100\n",
      "7/7 - 0s - loss: 8.1649e-04 - 119ms/epoch - 17ms/step\n",
      "Epoch 97/100\n",
      "7/7 - 0s - loss: 8.4734e-04 - 136ms/epoch - 19ms/step\n",
      "Epoch 98/100\n",
      "7/7 - 0s - loss: 7.1830e-04 - 129ms/epoch - 18ms/step\n",
      "Epoch 99/100\n",
      "7/7 - 0s - loss: 8.7843e-04 - 108ms/epoch - 15ms/step\n",
      "Epoch 100/100\n",
      "7/7 - 0s - loss: 8.4485e-04 - 145ms/epoch - 21ms/step\n"
     ]
    },
    {
     "data": {
      "text/plain": [
       "<keras.callbacks.History at 0x23301fefeb0>"
      ]
     },
     "execution_count": 24,
     "metadata": {},
     "output_type": "execute_result"
    }
   ],
   "source": [
    "\n",
    "model.fit(X_train, Y_train, epochs=100, batch_size=16, verbose=2)"
   ]
  },
  {
   "cell_type": "code",
   "execution_count": 25,
   "id": "PcsB2gVeG12K",
   "metadata": {
    "colab": {
     "base_uri": "https://localhost:8080/",
     "height": 448
    },
    "id": "PcsB2gVeG12K",
    "outputId": "90560802-678e-4c15-f638-d816d378f241"
   },
   "outputs": [
    {
     "data": {
      "text/plain": [
       "[<matplotlib.lines.Line2D at 0x23306437ac0>]"
      ]
     },
     "execution_count": 25,
     "metadata": {},
     "output_type": "execute_result"
    },
    {
     "data": {
      "image/png": "[encoded data removed]",
      "text/plain": [
       "<Figure size 432x288 with 1 Axes>"
      ]
     },
     "metadata": {
      "needs_background": "light"
     },
     "output_type": "display_data"
    }
   ],
   "source": [
    "loss_per_epoch = model.history.history['loss']\n",
    "plt.plot(range(len(loss_per_epoch)),loss_per_epoch)"
   ]
  },
  {
   "cell_type": "code",
   "execution_count": 26,
   "id": "68e7b3ca",
   "metadata": {
    "colab": {
     "base_uri": "https://localhost:8080/"
    },
    "id": "68e7b3ca",
    "outputId": "8d88b40a-8b0d-45a4-932d-43b7fe931204"
   },
   "outputs": [
    {
     "name": "stdout",
     "output_type": "stream",
     "text": [
      "1/1 [==============================] - 1s 906ms/step\n"
     ]
    }
   ],
   "source": [
    "#Evaluation du modèle\n",
    "\n",
    "Predicted_values = model.predict(X_test)\n"
   ]
  },
  {
   "cell_type": "code",
   "execution_count": 27,
   "id": "10k_U4eQuWFZ",
   "metadata": {
    "colab": {
     "base_uri": "https://localhost:8080/"
    },
    "id": "10k_U4eQuWFZ",
    "outputId": "f77d9603-390a-4819-be4d-a2fab2515e9a"
   },
   "outputs": [],
   "source": [
    "# Transformation inverse\n",
    "Y_train_tf = scaler.inverse_transform(Y_train.reshape(-1, 1))\n",
    "Y_test_tf= scaler.inverse_transform(Y_test.reshape(-1, 1))"
   ]
  },
  {
   "cell_type": "code",
   "execution_count": 28,
   "id": "ZCxSlwJJ2bJg",
   "metadata": {
    "id": "ZCxSlwJJ2bJg"
   },
   "outputs": [],
   "source": [
    "predict_values = scaler.inverse_transform(Predicted_values.reshape(-1, 1))"
   ]
  },
  {
   "cell_type": "code",
   "execution_count": 29,
   "id": "rIjjKaK_wDbu",
   "metadata": {
    "colab": {
     "base_uri": "https://localhost:8080/"
    },
    "id": "rIjjKaK_wDbu",
    "outputId": "12ffb301-0af4-45de-d16f-843ea94c6f1c"
   },
   "outputs": [
    {
     "name": "stdout",
     "output_type": "stream",
     "text": [
      "Mean Squared Error (MSE): 1358.665234185445\n"
     ]
    }
   ],
   "source": [
    "#mse\n",
    "mse = mean_squared_error(Y_test_tf, predict_values)\n",
    "print(f'Mean Squared Error (MSE): {mse}')\n",
    "\n"
   ]
  },
  {
   "cell_type": "code",
   "execution_count": 30,
   "id": "62b7c6a4",
   "metadata": {
    "colab": {
     "base_uri": "https://localhost:8080/",
     "height": 564
    },
    "id": "62b7c6a4",
    "outputId": "f7ec5d24-7659-47b4-9b9d-46b634ee6deb"
   },
   "outputs": [
    {
     "data": {
      "image/png": "[encoded data removed]",
      "text/plain": [
       "<Figure size 864x432 with 1 Axes>"
      ]
     },
     "metadata": {
      "needs_background": "light"
     },
     "output_type": "display_data"
    }
   ],
   "source": [
    "# Tracez les valeurs réelles et prédites en fonction de la date\n",
    "plt.figure(figsize=(12, 6))\n",
    "plt.plot(Y_test_tf, label='Valeurs réelles', marker='o')\n",
    "plt.plot(predict_values, label='Valeurs prédites', linestyle='--', marker='x')\n",
    "plt.title('Performance du modèle LSTM')\n",
    "plt.xlabel('Date')\n",
    "plt.ylabel('Nombre de passagers')\n",
    "plt.legend()\n",
    "plt.show()\n"
   ]
  },
  {
   "cell_type": "markdown",
   "id": "YQ5SYQYO1bWZ",
   "metadata": {
    "id": "YQ5SYQYO1bWZ"
   },
   "source": [
    "#### Essai 2\n",
    "-Ajout de 3 couches de LSTM"
   ]
  },
  {
   "cell_type": "code",
   "execution_count": 31,
   "id": "wbJysXEt1dPe",
   "metadata": {
    "id": "wbJysXEt1dPe"
   },
   "outputs": [],
   "source": [
    "model = Sequential()\n",
    "model.add(LSTM(100, activation='relu', input_shape=(sequence_length, 1), return_sequences=True))\n",
    "model.add(LSTM(50, activation='relu', return_sequences=True))\n",
    "model.add(LSTM(25, activation='relu'))\n",
    "\n",
    "model.add(Dense(1))\n",
    "\n",
    "# Compilez le modèle\n",
    "model.compile(loss='mean_squared_error', optimizer='adam')\n"
   ]
  },
  {
   "cell_type": "code",
   "execution_count": 32,
   "id": "Nb1jfEeP1k8l",
   "metadata": {
    "colab": {
     "base_uri": "https://localhost:8080/"
    },
    "id": "Nb1jfEeP1k8l",
    "outputId": "0570e035-50f1-4c18-9c9d-aeff25f4ce35"
   },
   "outputs": [
    {
     "name": "stdout",
     "output_type": "stream",
     "text": [
      "Epoch 1/100\n",
      "7/7 - 12s - loss: 0.1003 - 12s/epoch - 2s/step\n",
      "Epoch 2/100\n",
      "7/7 - 0s - loss: 0.0514 - 204ms/epoch - 29ms/step\n",
      "Epoch 3/100\n",
      "7/7 - 0s - loss: 0.0184 - 194ms/epoch - 28ms/step\n",
      "Epoch 4/100\n",
      "7/7 - 0s - loss: 0.0147 - 178ms/epoch - 25ms/step\n",
      "Epoch 5/100\n",
      "7/7 - 0s - loss: 0.0136 - 182ms/epoch - 26ms/step\n",
      "Epoch 6/100\n",
      "7/7 - 0s - loss: 0.0094 - 217ms/epoch - 31ms/step\n",
      "Epoch 7/100\n",
      "7/7 - 0s - loss: 0.0078 - 189ms/epoch - 27ms/step\n",
      "Epoch 8/100\n",
      "7/7 - 0s - loss: 0.0071 - 173ms/epoch - 25ms/step\n",
      "Epoch 9/100\n",
      "7/7 - 0s - loss: 0.0062 - 196ms/epoch - 28ms/step\n",
      "Epoch 10/100\n",
      "7/7 - 0s - loss: 0.0059 - 185ms/epoch - 26ms/step\n",
      "Epoch 11/100\n",
      "7/7 - 0s - loss: 0.0062 - 169ms/epoch - 24ms/step\n",
      "Epoch 12/100\n",
      "7/7 - 0s - loss: 0.0056 - 186ms/epoch - 27ms/step\n",
      "Epoch 13/100\n",
      "7/7 - 0s - loss: 0.0060 - 203ms/epoch - 29ms/step\n",
      "Epoch 14/100\n",
      "7/7 - 0s - loss: 0.0070 - 179ms/epoch - 26ms/step\n",
      "Epoch 15/100\n",
      "7/7 - 0s - loss: 0.0061 - 180ms/epoch - 26ms/step\n",
      "Epoch 16/100\n",
      "7/7 - 0s - loss: 0.0056 - 171ms/epoch - 24ms/step\n",
      "Epoch 17/100\n",
      "7/7 - 0s - loss: 0.0055 - 187ms/epoch - 27ms/step\n",
      "Epoch 18/100\n",
      "7/7 - 0s - loss: 0.0054 - 154ms/epoch - 22ms/step\n",
      "Epoch 19/100\n",
      "7/7 - 0s - loss: 0.0053 - 168ms/epoch - 24ms/step\n",
      "Epoch 20/100\n",
      "7/7 - 0s - loss: 0.0058 - 170ms/epoch - 24ms/step\n",
      "Epoch 21/100\n",
      "7/7 - 0s - loss: 0.0061 - 214ms/epoch - 31ms/step\n",
      "Epoch 22/100\n",
      "7/7 - 0s - loss: 0.0052 - 169ms/epoch - 24ms/step\n",
      "Epoch 23/100\n",
      "7/7 - 0s - loss: 0.0054 - 152ms/epoch - 22ms/step\n",
      "Epoch 24/100\n",
      "7/7 - 0s - loss: 0.0049 - 175ms/epoch - 25ms/step\n",
      "Epoch 25/100\n",
      "7/7 - 0s - loss: 0.0053 - 177ms/epoch - 25ms/step\n",
      "Epoch 26/100\n",
      "7/7 - 0s - loss: 0.0055 - 187ms/epoch - 27ms/step\n",
      "Epoch 27/100\n",
      "7/7 - 0s - loss: 0.0054 - 222ms/epoch - 32ms/step\n",
      "Epoch 28/100\n",
      "7/7 - 0s - loss: 0.0053 - 177ms/epoch - 25ms/step\n",
      "Epoch 29/100\n",
      "7/7 - 0s - loss: 0.0048 - 186ms/epoch - 27ms/step\n",
      "Epoch 30/100\n",
      "7/7 - 0s - loss: 0.0046 - 226ms/epoch - 32ms/step\n",
      "Epoch 31/100\n",
      "7/7 - 0s - loss: 0.0046 - 167ms/epoch - 24ms/step\n",
      "Epoch 32/100\n",
      "7/7 - 0s - loss: 0.0047 - 192ms/epoch - 27ms/step\n",
      "Epoch 33/100\n",
      "7/7 - 0s - loss: 0.0048 - 182ms/epoch - 26ms/step\n",
      "Epoch 34/100\n",
      "7/7 - 0s - loss: 0.0055 - 185ms/epoch - 26ms/step\n",
      "Epoch 35/100\n",
      "7/7 - 0s - loss: 0.0058 - 190ms/epoch - 27ms/step\n",
      "Epoch 36/100\n",
      "7/7 - 0s - loss: 0.0059 - 183ms/epoch - 26ms/step\n",
      "Epoch 37/100\n",
      "7/7 - 0s - loss: 0.0051 - 183ms/epoch - 26ms/step\n",
      "Epoch 38/100\n",
      "7/7 - 0s - loss: 0.0043 - 173ms/epoch - 25ms/step\n",
      "Epoch 39/100\n",
      "7/7 - 0s - loss: 0.0041 - 218ms/epoch - 31ms/step\n",
      "Epoch 40/100\n",
      "7/7 - 0s - loss: 0.0039 - 285ms/epoch - 41ms/step\n",
      "Epoch 41/100\n",
      "7/7 - 0s - loss: 0.0039 - 207ms/epoch - 30ms/step\n",
      "Epoch 42/100\n",
      "7/7 - 0s - loss: 0.0041 - 259ms/epoch - 37ms/step\n",
      "Epoch 43/100\n",
      "7/7 - 0s - loss: 0.0037 - 210ms/epoch - 30ms/step\n",
      "Epoch 44/100\n",
      "7/7 - 0s - loss: 0.0036 - 215ms/epoch - 31ms/step\n",
      "Epoch 45/100\n",
      "7/7 - 0s - loss: 0.0038 - 184ms/epoch - 26ms/step\n",
      "Epoch 46/100\n",
      "7/7 - 0s - loss: 0.0036 - 215ms/epoch - 31ms/step\n",
      "Epoch 47/100\n",
      "7/7 - 0s - loss: 0.0043 - 188ms/epoch - 27ms/step\n",
      "Epoch 48/100\n",
      "7/7 - 0s - loss: 0.0035 - 222ms/epoch - 32ms/step\n",
      "Epoch 49/100\n",
      "7/7 - 0s - loss: 0.0034 - 196ms/epoch - 28ms/step\n",
      "Epoch 50/100\n",
      "7/7 - 0s - loss: 0.0030 - 266ms/epoch - 38ms/step\n",
      "Epoch 51/100\n",
      "7/7 - 0s - loss: 0.0031 - 192ms/epoch - 27ms/step\n",
      "Epoch 52/100\n",
      "7/7 - 0s - loss: 0.0032 - 191ms/epoch - 27ms/step\n",
      "Epoch 53/100\n",
      "7/7 - 0s - loss: 0.0027 - 227ms/epoch - 32ms/step\n",
      "Epoch 54/100\n",
      "7/7 - 0s - loss: 0.0026 - 233ms/epoch - 33ms/step\n",
      "Epoch 55/100\n",
      "7/7 - 0s - loss: 0.0025 - 196ms/epoch - 28ms/step\n",
      "Epoch 56/100\n",
      "7/7 - 0s - loss: 0.0030 - 255ms/epoch - 36ms/step\n",
      "Epoch 57/100\n",
      "7/7 - 0s - loss: 0.0023 - 299ms/epoch - 43ms/step\n",
      "Epoch 58/100\n",
      "7/7 - 0s - loss: 0.0023 - 280ms/epoch - 40ms/step\n",
      "Epoch 59/100\n",
      "7/7 - 0s - loss: 0.0023 - 193ms/epoch - 28ms/step\n",
      "Epoch 60/100\n",
      "7/7 - 0s - loss: 0.0040 - 187ms/epoch - 27ms/step\n",
      "Epoch 61/100\n",
      "7/7 - 0s - loss: 0.0025 - 204ms/epoch - 29ms/step\n",
      "Epoch 62/100\n",
      "7/7 - 0s - loss: 0.0023 - 242ms/epoch - 35ms/step\n",
      "Epoch 63/100\n",
      "7/7 - 0s - loss: 0.0021 - 229ms/epoch - 33ms/step\n",
      "Epoch 64/100\n",
      "7/7 - 0s - loss: 0.0020 - 242ms/epoch - 35ms/step\n",
      "Epoch 65/100\n",
      "7/7 - 0s - loss: 0.0020 - 242ms/epoch - 35ms/step\n",
      "Epoch 66/100\n",
      "7/7 - 0s - loss: 0.0024 - 311ms/epoch - 44ms/step\n",
      "Epoch 67/100\n",
      "7/7 - 0s - loss: 0.0018 - 241ms/epoch - 34ms/step\n",
      "Epoch 68/100\n",
      "7/7 - 0s - loss: 0.0016 - 301ms/epoch - 43ms/step\n",
      "Epoch 69/100\n",
      "7/7 - 0s - loss: 0.0014 - 410ms/epoch - 59ms/step\n",
      "Epoch 70/100\n",
      "7/7 - 0s - loss: 0.0020 - 341ms/epoch - 49ms/step\n",
      "Epoch 71/100\n",
      "7/7 - 0s - loss: 0.0025 - 227ms/epoch - 32ms/step\n",
      "Epoch 72/100\n",
      "7/7 - 0s - loss: 0.0021 - 198ms/epoch - 28ms/step\n",
      "Epoch 73/100\n",
      "7/7 - 1s - loss: 0.0016 - 619ms/epoch - 88ms/step\n",
      "Epoch 74/100\n",
      "7/7 - 0s - loss: 0.0014 - 403ms/epoch - 58ms/step\n",
      "Epoch 75/100\n",
      "7/7 - 0s - loss: 0.0013 - 387ms/epoch - 55ms/step\n",
      "Epoch 76/100\n",
      "7/7 - 0s - loss: 0.0012 - 293ms/epoch - 42ms/step\n",
      "Epoch 77/100\n",
      "7/7 - 0s - loss: 0.0012 - 299ms/epoch - 43ms/step\n",
      "Epoch 78/100\n",
      "7/7 - 0s - loss: 0.0012 - 248ms/epoch - 35ms/step\n",
      "Epoch 79/100\n",
      "7/7 - 0s - loss: 0.0013 - 269ms/epoch - 38ms/step\n",
      "Epoch 80/100\n",
      "7/7 - 0s - loss: 0.0015 - 302ms/epoch - 43ms/step\n",
      "Epoch 81/100\n",
      "7/7 - 0s - loss: 0.0014 - 271ms/epoch - 39ms/step\n",
      "Epoch 82/100\n",
      "7/7 - 0s - loss: 0.0015 - 272ms/epoch - 39ms/step\n",
      "Epoch 83/100\n",
      "7/7 - 0s - loss: 0.0019 - 203ms/epoch - 29ms/step\n",
      "Epoch 84/100\n",
      "7/7 - 0s - loss: 0.0012 - 256ms/epoch - 37ms/step\n",
      "Epoch 85/100\n",
      "7/7 - 0s - loss: 0.0011 - 410ms/epoch - 59ms/step\n",
      "Epoch 86/100\n",
      "7/7 - 0s - loss: 0.0015 - 403ms/epoch - 58ms/step\n",
      "Epoch 87/100\n",
      "7/7 - 1s - loss: 0.0013 - 579ms/epoch - 83ms/step\n",
      "Epoch 88/100\n",
      "7/7 - 0s - loss: 0.0011 - 354ms/epoch - 51ms/step\n",
      "Epoch 89/100\n",
      "7/7 - 1s - loss: 9.1570e-04 - 596ms/epoch - 85ms/step\n",
      "Epoch 90/100\n",
      "7/7 - 0s - loss: 8.7360e-04 - 361ms/epoch - 52ms/step\n",
      "Epoch 91/100\n",
      "7/7 - 0s - loss: 8.8056e-04 - 305ms/epoch - 44ms/step\n",
      "Epoch 92/100\n",
      "7/7 - 0s - loss: 9.3822e-04 - 254ms/epoch - 36ms/step\n",
      "Epoch 93/100\n",
      "7/7 - 0s - loss: 7.7395e-04 - 331ms/epoch - 47ms/step\n",
      "Epoch 94/100\n",
      "7/7 - 0s - loss: 9.2149e-04 - 273ms/epoch - 39ms/step\n",
      "Epoch 95/100\n",
      "7/7 - 0s - loss: 0.0013 - 324ms/epoch - 46ms/step\n",
      "Epoch 96/100\n",
      "7/7 - 0s - loss: 0.0014 - 279ms/epoch - 40ms/step\n",
      "Epoch 97/100\n",
      "7/7 - 0s - loss: 8.6633e-04 - 303ms/epoch - 43ms/step\n",
      "Epoch 98/100\n",
      "7/7 - 0s - loss: 0.0012 - 265ms/epoch - 38ms/step\n",
      "Epoch 99/100\n",
      "7/7 - 0s - loss: 0.0012 - 246ms/epoch - 35ms/step\n",
      "Epoch 100/100\n",
      "7/7 - 0s - loss: 0.0013 - 202ms/epoch - 29ms/step\n"
     ]
    }
   ],
   "source": [
    "#entraînement\n",
    "history=model.fit(X_train, Y_train, epochs=100, batch_size=16, verbose=2)"
   ]
  },
  {
   "cell_type": "code",
   "execution_count": 33,
   "id": "-WRVgbKH6LuU",
   "metadata": {
    "colab": {
     "base_uri": "https://localhost:8080/",
     "height": 448
    },
    "id": "-WRVgbKH6LuU",
    "outputId": "a019a447-7f63-496e-b429-a92315a4dc6f"
   },
   "outputs": [
    {
     "data": {
      "text/plain": [
       "[<matplotlib.lines.Line2D at 0x2337feb0610>]"
      ]
     },
     "execution_count": 33,
     "metadata": {},
     "output_type": "execute_result"
    },
    {
     "data": {
      "image/png": "[encoded data removed]",
      "text/plain": [
       "<Figure size 432x288 with 1 Axes>"
      ]
     },
     "metadata": {
      "needs_background": "light"
     },
     "output_type": "display_data"
    }
   ],
   "source": [
    "loss_per_epoch = model.history.history['loss']\n",
    "plt.plot(range(len(loss_per_epoch)),loss_per_epoch)"
   ]
  },
  {
   "cell_type": "code",
   "execution_count": 34,
   "id": "_yHUbvbC1t7o",
   "metadata": {
    "colab": {
     "base_uri": "https://localhost:8080/"
    },
    "id": "_yHUbvbC1t7o",
    "outputId": "3c2f3d0f-aa6d-46b2-f341-4d98b8ab9ceb"
   },
   "outputs": [
    {
     "name": "stdout",
     "output_type": "stream",
     "text": [
      "1/1 [==============================] - 3s 3s/step\n"
     ]
    }
   ],
   "source": [
    "#Evaluation du modèle\n",
    "\n",
    "Predicted_values = model.predict(X_test)\n"
   ]
  },
  {
   "cell_type": "code",
   "execution_count": 35,
   "id": "jV8xanC-2vUn",
   "metadata": {
    "colab": {
     "base_uri": "https://localhost:8080/"
    },
    "id": "jV8xanC-2vUn",
    "outputId": "fcf050b8-fef2-4ff8-8d7b-ffb7255c829f"
   },
   "outputs": [],
   "source": [
    "# Transformation inverse\n",
    "Y_train_tf = scaler.inverse_transform(Y_train.reshape(-1, 1))\n",
    "Y_test_tf= scaler.inverse_transform(Y_test.reshape(-1, 1))"
   ]
  },
  {
   "cell_type": "code",
   "execution_count": 36,
   "id": "trgMozx_25KL",
   "metadata": {
    "id": "trgMozx_25KL"
   },
   "outputs": [],
   "source": [
    "predict_values = scaler.inverse_transform(Predicted_values.reshape(-1, 1))"
   ]
  },
  {
   "cell_type": "code",
   "execution_count": 37,
   "id": "LtH3SUAN27y4",
   "metadata": {
    "colab": {
     "base_uri": "https://localhost:8080/"
    },
    "id": "LtH3SUAN27y4",
    "outputId": "9b436811-14da-4f33-ccd3-0fd6edb8dfc7"
   },
   "outputs": [
    {
     "name": "stdout",
     "output_type": "stream",
     "text": [
      "Mean Squared Error (MSE): 665.0827697575506\n"
     ]
    }
   ],
   "source": [
    "#mse\n",
    "mse = mean_squared_error(Y_test_tf, predict_values)\n",
    "print(f'Mean Squared Error (MSE): {mse}')\n",
    "\n"
   ]
  },
  {
   "cell_type": "code",
   "execution_count": 38,
   "id": "2p0tSt9Q2_-M",
   "metadata": {
    "colab": {
     "base_uri": "https://localhost:8080/",
     "height": 564
    },
    "id": "2p0tSt9Q2_-M",
    "outputId": "18cc0a17-2b81-40f7-a66b-9e9be81e7f7d"
   },
   "outputs": [
    {
     "data": {
      "image/png": "[encoded data removed]",
      "text/plain": [
       "<Figure size 864x432 with 1 Axes>"
      ]
     },
     "metadata": {
      "needs_background": "light"
     },
     "output_type": "display_data"
    }
   ],
   "source": [
    "# Tracez les valeurs réelles et prédites en fonction de la date\n",
    "plt.figure(figsize=(12, 6))\n",
    "plt.plot(Y_test_tf, label='Valeurs réelles', marker='o')\n",
    "plt.plot(predict_values, label='Valeurs prédites', linestyle='--', marker='x')\n",
    "plt.title('Performance du modèle LSTM')\n",
    "plt.xlabel('Date')\n",
    "plt.ylabel('Nombre de passagers')\n",
    "plt.legend()\n",
    "plt.show()\n"
   ]
  },
  {
   "cell_type": "markdown",
   "id": "sYlMR3KWZ9j4",
   "metadata": {
    "id": "sYlMR3KWZ9j4"
   },
   "source": [
    "#### Essai 3\n",
    "-Augmentation de batch_size à 16 et de learning_rate à 0,01"
   ]
  },
  {
   "cell_type": "code",
   "execution_count": 39,
   "id": "rih-Y0KHZ8aw",
   "metadata": {
    "colab": {
     "base_uri": "https://localhost:8080/"
    },
    "id": "rih-Y0KHZ8aw",
    "outputId": "3f73e1f8-3a2b-4fa9-e173-2547de912f45"
   },
   "outputs": [
    {
     "name": "stdout",
     "output_type": "stream",
     "text": [
      "Epoch 1/100\n",
      "7/7 - 10s - loss: 0.0271 - 10s/epoch - 1s/step\n",
      "Epoch 2/100\n",
      "7/7 - 0s - loss: 0.0163 - 105ms/epoch - 15ms/step\n",
      "Epoch 3/100\n",
      "7/7 - 0s - loss: 0.0085 - 95ms/epoch - 14ms/step\n",
      "Epoch 4/100\n",
      "7/7 - 0s - loss: 0.0065 - 115ms/epoch - 16ms/step\n",
      "Epoch 5/100\n",
      "7/7 - 0s - loss: 0.0061 - 80ms/epoch - 11ms/step\n",
      "Epoch 6/100\n",
      "7/7 - 0s - loss: 0.0058 - 105ms/epoch - 15ms/step\n",
      "Epoch 7/100\n",
      "7/7 - 0s - loss: 0.0058 - 101ms/epoch - 14ms/step\n",
      "Epoch 8/100\n",
      "7/7 - 0s - loss: 0.0057 - 125ms/epoch - 18ms/step\n",
      "Epoch 9/100\n",
      "7/7 - 0s - loss: 0.0060 - 99ms/epoch - 14ms/step\n",
      "Epoch 10/100\n",
      "7/7 - 0s - loss: 0.0062 - 61ms/epoch - 9ms/step\n",
      "Epoch 11/100\n",
      "7/7 - 0s - loss: 0.0055 - 118ms/epoch - 17ms/step\n",
      "Epoch 12/100\n",
      "7/7 - 0s - loss: 0.0068 - 149ms/epoch - 21ms/step\n",
      "Epoch 13/100\n",
      "7/7 - 0s - loss: 0.0062 - 118ms/epoch - 17ms/step\n",
      "Epoch 14/100\n",
      "7/7 - 0s - loss: 0.0064 - 53ms/epoch - 8ms/step\n",
      "Epoch 15/100\n",
      "7/7 - 0s - loss: 0.0059 - 94ms/epoch - 13ms/step\n",
      "Epoch 16/100\n",
      "7/7 - 0s - loss: 0.0054 - 96ms/epoch - 14ms/step\n",
      "Epoch 17/100\n",
      "7/7 - 0s - loss: 0.0050 - 74ms/epoch - 11ms/step\n",
      "Epoch 18/100\n",
      "7/7 - 0s - loss: 0.0052 - 135ms/epoch - 19ms/step\n",
      "Epoch 19/100\n",
      "7/7 - 0s - loss: 0.0052 - 65ms/epoch - 9ms/step\n",
      "Epoch 20/100\n",
      "7/7 - 0s - loss: 0.0048 - 100ms/epoch - 14ms/step\n",
      "Epoch 21/100\n",
      "7/7 - 0s - loss: 0.0046 - 125ms/epoch - 18ms/step\n",
      "Epoch 22/100\n",
      "7/7 - 0s - loss: 0.0051 - 104ms/epoch - 15ms/step\n",
      "Epoch 23/100\n",
      "7/7 - 0s - loss: 0.0051 - 56ms/epoch - 8ms/step\n",
      "Epoch 24/100\n",
      "7/7 - 0s - loss: 0.0043 - 132ms/epoch - 19ms/step\n",
      "Epoch 25/100\n",
      "7/7 - 0s - loss: 0.0042 - 104ms/epoch - 15ms/step\n",
      "Epoch 26/100\n",
      "7/7 - 0s - loss: 0.0043 - 175ms/epoch - 25ms/step\n",
      "Epoch 27/100\n",
      "7/7 - 0s - loss: 0.0043 - 63ms/epoch - 9ms/step\n",
      "Epoch 28/100\n",
      "7/7 - 0s - loss: 0.0054 - 112ms/epoch - 16ms/step\n",
      "Epoch 29/100\n",
      "7/7 - 0s - loss: 0.0053 - 130ms/epoch - 19ms/step\n",
      "Epoch 30/100\n",
      "7/7 - 0s - loss: 0.0042 - 153ms/epoch - 22ms/step\n",
      "Epoch 31/100\n",
      "7/7 - 0s - loss: 0.0045 - 57ms/epoch - 8ms/step\n",
      "Epoch 32/100\n",
      "7/7 - 0s - loss: 0.0038 - 167ms/epoch - 24ms/step\n",
      "Epoch 33/100\n",
      "7/7 - 0s - loss: 0.0037 - 126ms/epoch - 18ms/step\n",
      "Epoch 34/100\n",
      "7/7 - 0s - loss: 0.0036 - 96ms/epoch - 14ms/step\n",
      "Epoch 35/100\n",
      "7/7 - 0s - loss: 0.0030 - 61ms/epoch - 9ms/step\n",
      "Epoch 36/100\n",
      "7/7 - 0s - loss: 0.0031 - 94ms/epoch - 13ms/step\n",
      "Epoch 37/100\n",
      "7/7 - 0s - loss: 0.0024 - 115ms/epoch - 16ms/step\n",
      "Epoch 38/100\n",
      "7/7 - 0s - loss: 0.0022 - 134ms/epoch - 19ms/step\n",
      "Epoch 39/100\n",
      "7/7 - 0s - loss: 0.0022 - 156ms/epoch - 22ms/step\n",
      "Epoch 40/100\n",
      "7/7 - 0s - loss: 0.0020 - 142ms/epoch - 20ms/step\n",
      "Epoch 41/100\n",
      "7/7 - 0s - loss: 0.0017 - 236ms/epoch - 34ms/step\n",
      "Epoch 42/100\n",
      "7/7 - 0s - loss: 0.0015 - 72ms/epoch - 10ms/step\n",
      "Epoch 43/100\n",
      "7/7 - 0s - loss: 0.0022 - 142ms/epoch - 20ms/step\n",
      "Epoch 44/100\n",
      "7/7 - 0s - loss: 0.0021 - 110ms/epoch - 16ms/step\n",
      "Epoch 45/100\n",
      "7/7 - 0s - loss: 0.0018 - 104ms/epoch - 15ms/step\n",
      "Epoch 46/100\n",
      "7/7 - 0s - loss: 0.0017 - 100ms/epoch - 14ms/step\n",
      "Epoch 47/100\n",
      "7/7 - 0s - loss: 0.0013 - 60ms/epoch - 9ms/step\n",
      "Epoch 48/100\n",
      "7/7 - 0s - loss: 0.0013 - 86ms/epoch - 12ms/step\n",
      "Epoch 49/100\n",
      "7/7 - 0s - loss: 0.0014 - 74ms/epoch - 11ms/step\n",
      "Epoch 50/100\n",
      "7/7 - 0s - loss: 0.0014 - 81ms/epoch - 12ms/step\n",
      "Epoch 51/100\n",
      "7/7 - 0s - loss: 0.0016 - 55ms/epoch - 8ms/step\n",
      "Epoch 52/100\n",
      "7/7 - 0s - loss: 0.0017 - 72ms/epoch - 10ms/step\n",
      "Epoch 53/100\n",
      "7/7 - 0s - loss: 0.0021 - 76ms/epoch - 11ms/step\n",
      "Epoch 54/100\n",
      "7/7 - 0s - loss: 0.0022 - 92ms/epoch - 13ms/step\n",
      "Epoch 55/100\n",
      "7/7 - 0s - loss: 0.0025 - 78ms/epoch - 11ms/step\n",
      "Epoch 56/100\n",
      "7/7 - 0s - loss: 0.0022 - 58ms/epoch - 8ms/step\n",
      "Epoch 57/100\n",
      "7/7 - 0s - loss: 0.0017 - 77ms/epoch - 11ms/step\n",
      "Epoch 58/100\n",
      "7/7 - 0s - loss: 0.0019 - 78ms/epoch - 11ms/step\n",
      "Epoch 59/100\n",
      "7/7 - 0s - loss: 0.0020 - 82ms/epoch - 12ms/step\n",
      "Epoch 60/100\n",
      "7/7 - 0s - loss: 0.0017 - 73ms/epoch - 10ms/step\n",
      "Epoch 61/100\n",
      "7/7 - 0s - loss: 0.0017 - 147ms/epoch - 21ms/step\n",
      "Epoch 62/100\n",
      "7/7 - 0s - loss: 0.0014 - 75ms/epoch - 11ms/step\n",
      "Epoch 63/100\n",
      "7/7 - 0s - loss: 0.0016 - 90ms/epoch - 13ms/step\n",
      "Epoch 64/100\n",
      "7/7 - 0s - loss: 0.0013 - 75ms/epoch - 11ms/step\n",
      "Epoch 65/100\n",
      "7/7 - 0s - loss: 0.0010 - 87ms/epoch - 12ms/step\n",
      "Epoch 66/100\n",
      "7/7 - 0s - loss: 0.0011 - 70ms/epoch - 10ms/step\n",
      "Epoch 67/100\n",
      "7/7 - 0s - loss: 9.5673e-04 - 90ms/epoch - 13ms/step\n",
      "Epoch 68/100\n",
      "7/7 - 0s - loss: 8.6014e-04 - 77ms/epoch - 11ms/step\n",
      "Epoch 69/100\n",
      "7/7 - 0s - loss: 8.7212e-04 - 73ms/epoch - 10ms/step\n",
      "Epoch 70/100\n",
      "7/7 - 0s - loss: 9.4066e-04 - 67ms/epoch - 10ms/step\n",
      "Epoch 71/100\n",
      "7/7 - 0s - loss: 0.0011 - 89ms/epoch - 13ms/step\n",
      "Epoch 72/100\n",
      "7/7 - 0s - loss: 0.0013 - 65ms/epoch - 9ms/step\n",
      "Epoch 73/100\n",
      "7/7 - 0s - loss: 9.4259e-04 - 68ms/epoch - 10ms/step\n",
      "Epoch 74/100\n",
      "7/7 - 0s - loss: 9.6324e-04 - 68ms/epoch - 10ms/step\n",
      "Epoch 75/100\n",
      "7/7 - 0s - loss: 8.1154e-04 - 135ms/epoch - 19ms/step\n",
      "Epoch 76/100\n",
      "7/7 - 0s - loss: 8.3428e-04 - 88ms/epoch - 13ms/step\n",
      "Epoch 77/100\n",
      "7/7 - 0s - loss: 8.7997e-04 - 84ms/epoch - 12ms/step\n",
      "Epoch 78/100\n",
      "7/7 - 0s - loss: 0.0019 - 59ms/epoch - 8ms/step\n",
      "Epoch 79/100\n",
      "7/7 - 0s - loss: 0.0012 - 77ms/epoch - 11ms/step\n",
      "Epoch 80/100\n",
      "7/7 - 0s - loss: 0.0013 - 71ms/epoch - 10ms/step\n",
      "Epoch 81/100\n",
      "7/7 - 0s - loss: 9.0234e-04 - 81ms/epoch - 12ms/step\n",
      "Epoch 82/100\n",
      "7/7 - 0s - loss: 7.8456e-04 - 96ms/epoch - 14ms/step\n",
      "Epoch 83/100\n",
      "7/7 - 0s - loss: 7.6441e-04 - 80ms/epoch - 11ms/step\n",
      "Epoch 84/100\n",
      "7/7 - 0s - loss: 9.0613e-04 - 74ms/epoch - 11ms/step\n",
      "Epoch 85/100\n",
      "7/7 - 0s - loss: 9.2125e-04 - 83ms/epoch - 12ms/step\n",
      "Epoch 86/100\n",
      "7/7 - 0s - loss: 9.0021e-04 - 110ms/epoch - 16ms/step\n",
      "Epoch 87/100\n",
      "7/7 - 0s - loss: 9.9281e-04 - 66ms/epoch - 9ms/step\n",
      "Epoch 88/100\n",
      "7/7 - 0s - loss: 9.6675e-04 - 59ms/epoch - 8ms/step\n",
      "Epoch 89/100\n",
      "7/7 - 0s - loss: 8.4068e-04 - 66ms/epoch - 9ms/step\n",
      "Epoch 90/100\n",
      "7/7 - 0s - loss: 7.5868e-04 - 61ms/epoch - 9ms/step\n",
      "Epoch 91/100\n",
      "7/7 - 0s - loss: 7.6685e-04 - 57ms/epoch - 8ms/step\n",
      "Epoch 92/100\n",
      "7/7 - 0s - loss: 7.6522e-04 - 60ms/epoch - 9ms/step\n",
      "Epoch 93/100\n",
      "7/7 - 0s - loss: 7.7485e-04 - 51ms/epoch - 7ms/step\n",
      "Epoch 94/100\n",
      "7/7 - 0s - loss: 8.4718e-04 - 63ms/epoch - 9ms/step\n",
      "Epoch 95/100\n",
      "7/7 - 0s - loss: 6.8294e-04 - 58ms/epoch - 8ms/step\n",
      "Epoch 96/100\n",
      "7/7 - 0s - loss: 6.8348e-04 - 57ms/epoch - 8ms/step\n",
      "Epoch 97/100\n",
      "7/7 - 0s - loss: 6.2771e-04 - 58ms/epoch - 8ms/step\n",
      "Epoch 98/100\n",
      "7/7 - 0s - loss: 7.5715e-04 - 76ms/epoch - 11ms/step\n",
      "Epoch 99/100\n",
      "7/7 - 0s - loss: 8.8365e-04 - 57ms/epoch - 8ms/step\n",
      "Epoch 100/100\n",
      "7/7 - 0s - loss: 7.7273e-04 - 56ms/epoch - 8ms/step\n"
     ]
    },
    {
     "data": {
      "text/plain": [
       "<keras.callbacks.History at 0x2330aca8cd0>"
      ]
     },
     "execution_count": 39,
     "metadata": {},
     "output_type": "execute_result"
    }
   ],
   "source": [
    "# Créez un modèle séquentiel\n",
    "model = Sequential()\n",
    "\n",
    "\n",
    "model.add(LSTM(50, activation='relu', input_shape=(sequence_length, 1)))\n",
    "\n",
    "\n",
    "model.add(Dense(1))\n",
    "\n",
    "\n",
    "custom_optimizer = Adam(learning_rate=0.01)# 0,001\n",
    "model.compile(loss='mean_squared_error', optimizer=custom_optimizer)\n",
    "\n",
    "\n",
    "model.fit(X_train, Y_train, epochs=100, batch_size=16, verbose=2)\n"
   ]
  },
  {
   "cell_type": "code",
   "execution_count": 40,
   "id": "u2yFsuN4aMU0",
   "metadata": {
    "colab": {
     "base_uri": "https://localhost:8080/",
     "height": 453
    },
    "id": "u2yFsuN4aMU0",
    "outputId": "4b71fc2d-2f41-4374-bd37-f31d7505fc41"
   },
   "outputs": [
    {
     "data": {
      "text/plain": [
       "[<matplotlib.lines.Line2D at 0x2330c0a6c10>]"
      ]
     },
     "execution_count": 40,
     "metadata": {},
     "output_type": "execute_result"
    },
    {
     "data": {
      "image/png": "[encoded data removed]",
      "text/plain": [
       "<Figure size 432x288 with 1 Axes>"
      ]
     },
     "metadata": {
      "needs_background": "light"
     },
     "output_type": "display_data"
    }
   ],
   "source": [
    "loss_per_epoch = model.history.history['loss']\n",
    "plt.plot(range(len(loss_per_epoch)),loss_per_epoch)"
   ]
  },
  {
   "cell_type": "code",
   "execution_count": 41,
   "id": "50fc8179",
   "metadata": {},
   "outputs": [
    {
     "name": "stdout",
     "output_type": "stream",
     "text": [
      "1/1 [==============================] - 1s 590ms/step\n",
      "Mean Squared Error (MSE): 2474.9822595682062\n"
     ]
    }
   ],
   "source": [
    "Predicted_values = model.predict(X_test)\n",
    "# Transformation inverse\n",
    "Y_train_tf = scaler.inverse_transform(Y_train.reshape(-1, 1))\n",
    "Y_test_tf= scaler.inverse_transform(Y_test.reshape(-1, 1))\n",
    "predict_values = scaler.inverse_transform(Predicted_values.reshape(-1, 1))\n",
    "#mse\n",
    "mse = mean_squared_error(Y_test_tf, predict_values)\n",
    "print(f'Mean Squared Error (MSE): {mse}')\n",
    "\n"
   ]
  },
  {
   "cell_type": "code",
   "execution_count": 42,
   "id": "ce3c5981",
   "metadata": {},
   "outputs": [
    {
     "data": {
      "image/png": "[encoded data removed]",
      "text/plain": [
       "<Figure size 864x432 with 1 Axes>"
      ]
     },
     "metadata": {
      "needs_background": "light"
     },
     "output_type": "display_data"
    }
   ],
   "source": [
    "# Tracez les valeurs réelles et prédites en fonction de la date\n",
    "plt.figure(figsize=(12, 6))\n",
    "plt.plot(Y_test_tf, label='Valeurs réelles', marker='o')\n",
    "plt.plot(predict_values, label='Valeurs prédites', linestyle='--', marker='x')\n",
    "plt.title('Performance du modèle LSTM')\n",
    "plt.xlabel('Date')\n",
    "plt.ylabel('Nombre de passagers')\n",
    "plt.legend()\n",
    "plt.show()\n"
   ]
  },
  {
   "cell_type": "code",
   "execution_count": 43,
   "id": "UJWlUMshbXEm",
   "metadata": {
    "colab": {
     "base_uri": "https://localhost:8080/"
    },
    "id": "UJWlUMshbXEm",
    "outputId": "ec2f11b1-e890-4e78-eae9-79514d9b1279"
   },
   "outputs": [
    {
     "name": "stdout",
     "output_type": "stream",
     "text": [
      "Epoch 1/100\n",
      "105/105 - 7s - loss: 0.0197 - 7s/epoch - 66ms/step\n",
      "Epoch 2/100\n",
      "105/105 - 1s - loss: 0.0106 - 1s/epoch - 11ms/step\n",
      "Epoch 3/100\n",
      "105/105 - 1s - loss: 0.0233 - 899ms/epoch - 9ms/step\n",
      "Epoch 4/100\n",
      "105/105 - 1s - loss: 0.0105 - 839ms/epoch - 8ms/step\n",
      "Epoch 5/100\n",
      "105/105 - 1s - loss: 0.0105 - 990ms/epoch - 9ms/step\n",
      "Epoch 6/100\n",
      "105/105 - 1s - loss: 0.0085 - 981ms/epoch - 9ms/step\n",
      "Epoch 7/100\n",
      "105/105 - 1s - loss: 0.0095 - 960ms/epoch - 9ms/step\n",
      "Epoch 8/100\n",
      "105/105 - 1s - loss: 0.0085 - 888ms/epoch - 8ms/step\n",
      "Epoch 9/100\n",
      "105/105 - 1s - loss: 0.0077 - 983ms/epoch - 9ms/step\n",
      "Epoch 10/100\n",
      "105/105 - 1s - loss: 0.0086 - 781ms/epoch - 7ms/step\n",
      "Epoch 11/100\n",
      "105/105 - 1s - loss: 0.0058 - 853ms/epoch - 8ms/step\n",
      "Epoch 12/100\n",
      "105/105 - 1s - loss: 0.0049 - 945ms/epoch - 9ms/step\n",
      "Epoch 13/100\n",
      "105/105 - 1s - loss: 0.0044 - 1s/epoch - 10ms/step\n",
      "Epoch 14/100\n",
      "105/105 - 1s - loss: 0.0032 - 893ms/epoch - 9ms/step\n",
      "Epoch 15/100\n",
      "105/105 - 1s - loss: 0.0035 - 1s/epoch - 11ms/step\n",
      "Epoch 16/100\n",
      "105/105 - 1s - loss: 0.0034 - 870ms/epoch - 8ms/step\n",
      "Epoch 17/100\n",
      "105/105 - 1s - loss: 0.0028 - 1s/epoch - 10ms/step\n",
      "Epoch 18/100\n",
      "105/105 - 1s - loss: 0.0021 - 916ms/epoch - 9ms/step\n",
      "Epoch 19/100\n",
      "105/105 - 1s - loss: 0.0024 - 883ms/epoch - 8ms/step\n",
      "Epoch 20/100\n",
      "105/105 - 1s - loss: 0.0025 - 889ms/epoch - 8ms/step\n",
      "Epoch 21/100\n",
      "105/105 - 1s - loss: 0.0032 - 870ms/epoch - 8ms/step\n",
      "Epoch 22/100\n",
      "105/105 - 1s - loss: 0.0026 - 947ms/epoch - 9ms/step\n",
      "Epoch 23/100\n",
      "105/105 - 1s - loss: 0.0037 - 862ms/epoch - 8ms/step\n",
      "Epoch 24/100\n",
      "105/105 - 1s - loss: 0.0026 - 907ms/epoch - 9ms/step\n",
      "Epoch 25/100\n",
      "105/105 - 1s - loss: 0.0035 - 822ms/epoch - 8ms/step\n",
      "Epoch 26/100\n",
      "105/105 - 1s - loss: 0.0017 - 846ms/epoch - 8ms/step\n",
      "Epoch 27/100\n",
      "105/105 - 1s - loss: 0.0018 - 802ms/epoch - 8ms/step\n",
      "Epoch 28/100\n",
      "105/105 - 1s - loss: 0.0017 - 808ms/epoch - 8ms/step\n",
      "Epoch 29/100\n",
      "105/105 - 1s - loss: 0.0025 - 829ms/epoch - 8ms/step\n",
      "Epoch 30/100\n",
      "105/105 - 1s - loss: 0.0021 - 794ms/epoch - 8ms/step\n",
      "Epoch 31/100\n",
      "105/105 - 1s - loss: 0.0019 - 868ms/epoch - 8ms/step\n",
      "Epoch 32/100\n",
      "105/105 - 1s - loss: 0.0023 - 1s/epoch - 10ms/step\n",
      "Epoch 33/100\n",
      "105/105 - 1s - loss: 0.0022 - 1s/epoch - 11ms/step\n",
      "Epoch 34/100\n",
      "105/105 - 1s - loss: 0.0016 - 1s/epoch - 10ms/step\n",
      "Epoch 35/100\n",
      "105/105 - 1s - loss: 0.0019 - 1s/epoch - 10ms/step\n",
      "Epoch 36/100\n",
      "105/105 - 1s - loss: 0.0014 - 790ms/epoch - 8ms/step\n",
      "Epoch 37/100\n",
      "105/105 - 1s - loss: 0.0021 - 823ms/epoch - 8ms/step\n",
      "Epoch 38/100\n",
      "105/105 - 1s - loss: 0.0013 - 815ms/epoch - 8ms/step\n",
      "Epoch 39/100\n",
      "105/105 - 1s - loss: 0.0015 - 800ms/epoch - 8ms/step\n",
      "Epoch 40/100\n",
      "105/105 - 1s - loss: 0.0018 - 810ms/epoch - 8ms/step\n",
      "Epoch 41/100\n",
      "105/105 - 1s - loss: 0.0013 - 828ms/epoch - 8ms/step\n",
      "Epoch 42/100\n",
      "105/105 - 1s - loss: 0.0012 - 821ms/epoch - 8ms/step\n",
      "Epoch 43/100\n",
      "105/105 - 1s - loss: 0.0015 - 805ms/epoch - 8ms/step\n",
      "Epoch 44/100\n",
      "105/105 - 1s - loss: 0.0019 - 795ms/epoch - 8ms/step\n",
      "Epoch 45/100\n",
      "105/105 - 1s - loss: 0.0023 - 843ms/epoch - 8ms/step\n",
      "Epoch 46/100\n",
      "105/105 - 1s - loss: 0.0049 - 816ms/epoch - 8ms/step\n",
      "Epoch 47/100\n",
      "105/105 - 1s - loss: 0.0030 - 827ms/epoch - 8ms/step\n",
      "Epoch 48/100\n",
      "105/105 - 1s - loss: 0.0018 - 849ms/epoch - 8ms/step\n",
      "Epoch 49/100\n",
      "105/105 - 1s - loss: 0.0015 - 1s/epoch - 10ms/step\n",
      "Epoch 50/100\n",
      "105/105 - 1s - loss: 0.0014 - 1s/epoch - 11ms/step\n",
      "Epoch 51/100\n",
      "105/105 - 1s - loss: 0.0013 - 1s/epoch - 10ms/step\n",
      "Epoch 52/100\n",
      "105/105 - 1s - loss: 0.0015 - 1s/epoch - 10ms/step\n",
      "Epoch 53/100\n",
      "105/105 - 1s - loss: 0.0015 - 1s/epoch - 10ms/step\n",
      "Epoch 54/100\n",
      "105/105 - 1s - loss: 0.0011 - 808ms/epoch - 8ms/step\n",
      "Epoch 55/100\n",
      "105/105 - 1s - loss: 0.0013 - 804ms/epoch - 8ms/step\n",
      "Epoch 56/100\n",
      "105/105 - 1s - loss: 0.0017 - 876ms/epoch - 8ms/step\n",
      "Epoch 57/100\n",
      "105/105 - 1s - loss: 0.0012 - 812ms/epoch - 8ms/step\n",
      "Epoch 58/100\n",
      "105/105 - 1s - loss: 0.0016 - 840ms/epoch - 8ms/step\n",
      "Epoch 59/100\n",
      "105/105 - 1s - loss: 0.0022 - 872ms/epoch - 8ms/step\n",
      "Epoch 60/100\n",
      "105/105 - 1s - loss: 0.0018 - 960ms/epoch - 9ms/step\n",
      "Epoch 61/100\n",
      "105/105 - 1s - loss: 0.0018 - 951ms/epoch - 9ms/step\n",
      "Epoch 62/100\n",
      "105/105 - 1s - loss: 0.0019 - 929ms/epoch - 9ms/step\n",
      "Epoch 63/100\n",
      "105/105 - 1s - loss: 0.0015 - 853ms/epoch - 8ms/step\n",
      "Epoch 64/100\n",
      "105/105 - 1s - loss: 0.0016 - 843ms/epoch - 8ms/step\n",
      "Epoch 65/100\n",
      "105/105 - 1s - loss: 9.6367e-04 - 796ms/epoch - 8ms/step\n",
      "Epoch 66/100\n",
      "105/105 - 1s - loss: 0.0011 - 783ms/epoch - 7ms/step\n",
      "Epoch 67/100\n",
      "105/105 - 1s - loss: 9.5421e-04 - 981ms/epoch - 9ms/step\n",
      "Epoch 68/100\n",
      "105/105 - 1s - loss: 0.0010 - 1s/epoch - 11ms/step\n",
      "Epoch 69/100\n",
      "105/105 - 1s - loss: 0.0013 - 1s/epoch - 10ms/step\n",
      "Epoch 70/100\n",
      "105/105 - 1s - loss: 8.0884e-04 - 1s/epoch - 10ms/step\n",
      "Epoch 71/100\n",
      "105/105 - 1s - loss: 8.8606e-04 - 918ms/epoch - 9ms/step\n",
      "Epoch 72/100\n",
      "105/105 - 1s - loss: 0.0011 - 835ms/epoch - 8ms/step\n",
      "Epoch 73/100\n",
      "105/105 - 1s - loss: 8.1123e-04 - 865ms/epoch - 8ms/step\n",
      "Epoch 74/100\n",
      "105/105 - 1s - loss: 9.5118e-04 - 893ms/epoch - 9ms/step\n",
      "Epoch 75/100\n",
      "105/105 - 1s - loss: 0.0011 - 914ms/epoch - 9ms/step\n",
      "Epoch 76/100\n",
      "105/105 - 1s - loss: 8.4356e-04 - 870ms/epoch - 8ms/step\n",
      "Epoch 77/100\n",
      "105/105 - 1s - loss: 8.3453e-04 - 817ms/epoch - 8ms/step\n",
      "Epoch 78/100\n",
      "105/105 - 1s - loss: 0.0016 - 801ms/epoch - 8ms/step\n",
      "Epoch 79/100\n",
      "105/105 - 1s - loss: 0.0011 - 808ms/epoch - 8ms/step\n",
      "Epoch 80/100\n",
      "105/105 - 1s - loss: 0.0013 - 851ms/epoch - 8ms/step\n",
      "Epoch 81/100\n",
      "105/105 - 1s - loss: 9.2245e-04 - 820ms/epoch - 8ms/step\n",
      "Epoch 82/100\n",
      "105/105 - 1s - loss: 8.2893e-04 - 928ms/epoch - 9ms/step\n",
      "Epoch 83/100\n",
      "105/105 - 1s - loss: 7.1111e-04 - 859ms/epoch - 8ms/step\n",
      "Epoch 84/100\n",
      "105/105 - 1s - loss: 9.3218e-04 - 868ms/epoch - 8ms/step\n",
      "Epoch 85/100\n",
      "105/105 - 1s - loss: 7.9150e-04 - 1s/epoch - 11ms/step\n",
      "Epoch 86/100\n",
      "105/105 - 1s - loss: 8.3808e-04 - 1s/epoch - 10ms/step\n",
      "Epoch 87/100\n",
      "105/105 - 1s - loss: 9.0749e-04 - 1s/epoch - 10ms/step\n",
      "Epoch 88/100\n",
      "105/105 - 1s - loss: 7.4001e-04 - 1s/epoch - 11ms/step\n",
      "Epoch 89/100\n",
      "105/105 - 1s - loss: 0.0013 - 865ms/epoch - 8ms/step\n",
      "Epoch 90/100\n",
      "105/105 - 1s - loss: 0.0012 - 985ms/epoch - 9ms/step\n",
      "Epoch 91/100\n",
      "105/105 - 1s - loss: 0.0010 - 814ms/epoch - 8ms/step\n",
      "Epoch 92/100\n",
      "105/105 - 1s - loss: 0.0011 - 917ms/epoch - 9ms/step\n",
      "Epoch 93/100\n",
      "105/105 - 1s - loss: 8.7413e-04 - 823ms/epoch - 8ms/step\n",
      "Epoch 94/100\n",
      "105/105 - 1s - loss: 0.0014 - 855ms/epoch - 8ms/step\n",
      "Epoch 95/100\n",
      "105/105 - 1s - loss: 0.0013 - 880ms/epoch - 8ms/step\n",
      "Epoch 96/100\n",
      "105/105 - 1s - loss: 0.0014 - 854ms/epoch - 8ms/step\n",
      "Epoch 97/100\n",
      "105/105 - 1s - loss: 0.0017 - 875ms/epoch - 8ms/step\n",
      "Epoch 98/100\n",
      "105/105 - 1s - loss: 9.4419e-04 - 832ms/epoch - 8ms/step\n",
      "Epoch 99/100\n",
      "105/105 - 1s - loss: 9.4232e-04 - 836ms/epoch - 8ms/step\n",
      "Epoch 100/100\n",
      "105/105 - 1s - loss: 0.0012 - 804ms/epoch - 8ms/step\n"
     ]
    },
    {
     "data": {
      "text/plain": [
       "<keras.callbacks.History at 0x2330c1c4460>"
      ]
     },
     "execution_count": 43,
     "metadata": {},
     "output_type": "execute_result"
    }
   ],
   "source": [
    "# Créez un modèle séquentiel\n",
    "model = Sequential()\n",
    "\n",
    "\n",
    "model.add(LSTM(100, activation='relu', input_shape=(sequence_length, 1),return_sequences=True))\n",
    "#model.add(LSTM(50, activation='relu', return_sequences=True))\n",
    "model.add(LSTM(25, activation='relu'))\n",
    "# Ajoutez une couche Dense pour la prédiction\n",
    "model.add(Dense(1))\n",
    "\n",
    "\n",
    "custom_optimizer = Adam(learning_rate=0.01)# 0,001\n",
    "model.compile(loss='mean_squared_error', optimizer=custom_optimizer)\n",
    "\n",
    "\n",
    "model.fit(X_train, Y_train, epochs=100, batch_size=1, verbose=2)\n"
   ]
  },
  {
   "cell_type": "code",
   "execution_count": 44,
   "id": "bXGGUFLfbbwd",
   "metadata": {
    "colab": {
     "base_uri": "https://localhost:8080/",
     "height": 448
    },
    "id": "bXGGUFLfbbwd",
    "outputId": "4fc15a1e-d3e7-4b62-e3f7-8f30c6ea8ca6"
   },
   "outputs": [
    {
     "data": {
      "text/plain": [
       "[<matplotlib.lines.Line2D at 0x2330e563220>]"
      ]
     },
     "execution_count": 44,
     "metadata": {},
     "output_type": "execute_result"
    },
    {
     "data": {
      "image/png": "[encoded data removed]",
      "text/plain": [
       "<Figure size 432x288 with 1 Axes>"
      ]
     },
     "metadata": {
      "needs_background": "light"
     },
     "output_type": "display_data"
    }
   ],
   "source": [
    "loss_per_epoch = model.history.history['loss']\n",
    "plt.plot(range(len(loss_per_epoch)),loss_per_epoch)"
   ]
  },
  {
   "cell_type": "code",
   "execution_count": 45,
   "id": "e141dd02",
   "metadata": {},
   "outputs": [
    {
     "name": "stdout",
     "output_type": "stream",
     "text": [
      "WARNING:tensorflow:5 out of the last 5 calls to <function Model.make_predict_function.<locals>.predict_function at 0x000002330E566940> triggered tf.function retracing. Tracing is expensive and the excessive number of tracings could be due to (1) creating @tf.function repeatedly in a loop, (2) passing tensors with different shapes, (3) passing Python objects instead of tensors. For (1), please define your @tf.function outside of the loop. For (2), @tf.function has reduce_retracing=True option that can avoid unnecessary retracing. For (3), please refer to https://www.tensorflow.org/guide/function#controlling_retracing and https://www.tensorflow.org/api_docs/python/tf/function for  more details.\n",
      "1/1 [==============================] - 1s 586ms/step\n",
      "Mean Squared Error (MSE): 1692.9366338722477\n"
     ]
    }
   ],
   "source": [
    "Predicted_values = model.predict(X_test)\n",
    "# Transformation inverse\n",
    "Y_train_tf = scaler.inverse_transform(Y_train.reshape(-1, 1))\n",
    "Y_test_tf= scaler.inverse_transform(Y_test.reshape(-1, 1))\n",
    "predict_values = scaler.inverse_transform(Predicted_values.reshape(-1, 1))\n",
    "#mse\n",
    "mse = mean_squared_error(Y_test_tf, predict_values)\n",
    "print(f'Mean Squared Error (MSE): {mse}')\n",
    "\n"
   ]
  },
  {
   "cell_type": "code",
   "execution_count": 46,
   "id": "3d16fbf1",
   "metadata": {},
   "outputs": [
    {
     "data": {
      "image/png": "[encoded data removed]",
      "text/plain": [
       "<Figure size 864x432 with 1 Axes>"
      ]
     },
     "metadata": {
      "needs_background": "light"
     },
     "output_type": "display_data"
    }
   ],
   "source": [
    "# Tracez les valeurs réelles et prédites en fonction de la date\n",
    "plt.figure(figsize=(12, 6))\n",
    "plt.plot(Y_test_tf, label='Valeurs réelles', marker='o')\n",
    "plt.plot(predict_values, label='Valeurs prédites', linestyle='--', marker='x')\n",
    "plt.title('Performance du modèle LSTM')\n",
    "plt.xlabel('Date')\n",
    "plt.ylabel('Nombre de passagers')\n",
    "plt.legend()\n",
    "plt.show()\n"
   ]
  },
  {
   "cell_type": "markdown",
   "id": "e7d3bf97",
   "metadata": {},
   "source": [
    "#### Essai 4\n",
    "-Couche=3 ,learning_rate=0,001 , batch_size=16\n"
   ]
  },
  {
   "cell_type": "code",
   "execution_count": 47,
   "id": "8Eqf85Z8de3h",
   "metadata": {
    "colab": {
     "base_uri": "https://localhost:8080/"
    },
    "id": "8Eqf85Z8de3h",
    "outputId": "321eae68-2810-4fad-ed58-a3293375f924"
   },
   "outputs": [
    {
     "name": "stdout",
     "output_type": "stream",
     "text": [
      "Epoch 1/100\n",
      "7/7 - 7s - loss: 0.1055 - 7s/epoch - 985ms/step\n",
      "Epoch 2/100\n",
      "7/7 - 0s - loss: 0.0652 - 159ms/epoch - 23ms/step\n",
      "Epoch 3/100\n",
      "7/7 - 0s - loss: 0.0223 - 157ms/epoch - 22ms/step\n",
      "Epoch 4/100\n",
      "7/7 - 0s - loss: 0.0213 - 168ms/epoch - 24ms/step\n",
      "Epoch 5/100\n",
      "7/7 - 0s - loss: 0.0143 - 196ms/epoch - 28ms/step\n",
      "Epoch 6/100\n",
      "7/7 - 0s - loss: 0.0135 - 176ms/epoch - 25ms/step\n",
      "Epoch 7/100\n",
      "7/7 - 0s - loss: 0.0097 - 222ms/epoch - 32ms/step\n",
      "Epoch 8/100\n",
      "7/7 - 0s - loss: 0.0081 - 199ms/epoch - 28ms/step\n",
      "Epoch 9/100\n",
      "7/7 - 0s - loss: 0.0071 - 163ms/epoch - 23ms/step\n",
      "Epoch 10/100\n",
      "7/7 - 0s - loss: 0.0071 - 170ms/epoch - 24ms/step\n",
      "Epoch 11/100\n",
      "7/7 - 0s - loss: 0.0066 - 166ms/epoch - 24ms/step\n",
      "Epoch 12/100\n",
      "7/7 - 0s - loss: 0.0065 - 150ms/epoch - 21ms/step\n",
      "Epoch 13/100\n",
      "7/7 - 0s - loss: 0.0058 - 159ms/epoch - 23ms/step\n",
      "Epoch 14/100\n",
      "7/7 - 0s - loss: 0.0058 - 157ms/epoch - 22ms/step\n",
      "Epoch 15/100\n",
      "7/7 - 0s - loss: 0.0056 - 167ms/epoch - 24ms/step\n",
      "Epoch 16/100\n",
      "7/7 - 0s - loss: 0.0062 - 167ms/epoch - 24ms/step\n",
      "Epoch 17/100\n",
      "7/7 - 0s - loss: 0.0064 - 164ms/epoch - 23ms/step\n",
      "Epoch 18/100\n",
      "7/7 - 0s - loss: 0.0054 - 176ms/epoch - 25ms/step\n",
      "Epoch 19/100\n",
      "7/7 - 0s - loss: 0.0055 - 158ms/epoch - 23ms/step\n",
      "Epoch 20/100\n",
      "7/7 - 0s - loss: 0.0056 - 171ms/epoch - 24ms/step\n",
      "Epoch 21/100\n",
      "7/7 - 0s - loss: 0.0052 - 182ms/epoch - 26ms/step\n",
      "Epoch 22/100\n",
      "7/7 - 0s - loss: 0.0053 - 177ms/epoch - 25ms/step\n",
      "Epoch 23/100\n",
      "7/7 - 0s - loss: 0.0052 - 162ms/epoch - 23ms/step\n",
      "Epoch 24/100\n",
      "7/7 - 0s - loss: 0.0051 - 162ms/epoch - 23ms/step\n",
      "Epoch 25/100\n",
      "7/7 - 0s - loss: 0.0053 - 164ms/epoch - 23ms/step\n",
      "Epoch 26/100\n",
      "7/7 - 0s - loss: 0.0066 - 179ms/epoch - 26ms/step\n",
      "Epoch 27/100\n",
      "7/7 - 0s - loss: 0.0054 - 165ms/epoch - 24ms/step\n",
      "Epoch 28/100\n",
      "7/7 - 0s - loss: 0.0052 - 162ms/epoch - 23ms/step\n",
      "Epoch 29/100\n",
      "7/7 - 0s - loss: 0.0049 - 165ms/epoch - 24ms/step\n",
      "Epoch 30/100\n",
      "7/7 - 0s - loss: 0.0047 - 174ms/epoch - 25ms/step\n",
      "Epoch 31/100\n",
      "7/7 - 0s - loss: 0.0048 - 165ms/epoch - 24ms/step\n",
      "Epoch 32/100\n",
      "7/7 - 0s - loss: 0.0051 - 169ms/epoch - 24ms/step\n",
      "Epoch 33/100\n",
      "7/7 - 0s - loss: 0.0048 - 178ms/epoch - 25ms/step\n",
      "Epoch 34/100\n",
      "7/7 - 0s - loss: 0.0046 - 168ms/epoch - 24ms/step\n",
      "Epoch 35/100\n",
      "7/7 - 0s - loss: 0.0047 - 173ms/epoch - 25ms/step\n",
      "Epoch 36/100\n",
      "7/7 - 0s - loss: 0.0048 - 164ms/epoch - 23ms/step\n",
      "Epoch 37/100\n",
      "7/7 - 0s - loss: 0.0044 - 175ms/epoch - 25ms/step\n",
      "Epoch 38/100\n",
      "7/7 - 0s - loss: 0.0042 - 160ms/epoch - 23ms/step\n",
      "Epoch 39/100\n",
      "7/7 - 0s - loss: 0.0046 - 158ms/epoch - 23ms/step\n",
      "Epoch 40/100\n",
      "7/7 - 0s - loss: 0.0047 - 157ms/epoch - 22ms/step\n",
      "Epoch 41/100\n",
      "7/7 - 0s - loss: 0.0045 - 203ms/epoch - 29ms/step\n",
      "Epoch 42/100\n",
      "7/7 - 0s - loss: 0.0045 - 191ms/epoch - 27ms/step\n",
      "Epoch 43/100\n",
      "7/7 - 0s - loss: 0.0042 - 200ms/epoch - 29ms/step\n",
      "Epoch 44/100\n",
      "7/7 - 0s - loss: 0.0037 - 195ms/epoch - 28ms/step\n",
      "Epoch 45/100\n",
      "7/7 - 0s - loss: 0.0036 - 196ms/epoch - 28ms/step\n",
      "Epoch 46/100\n",
      "7/7 - 0s - loss: 0.0036 - 189ms/epoch - 27ms/step\n",
      "Epoch 47/100\n",
      "7/7 - 0s - loss: 0.0039 - 210ms/epoch - 30ms/step\n",
      "Epoch 48/100\n",
      "7/7 - 0s - loss: 0.0034 - 212ms/epoch - 30ms/step\n",
      "Epoch 49/100\n",
      "7/7 - 0s - loss: 0.0039 - 218ms/epoch - 31ms/step\n",
      "Epoch 50/100\n",
      "7/7 - 0s - loss: 0.0035 - 194ms/epoch - 28ms/step\n",
      "Epoch 51/100\n",
      "7/7 - 0s - loss: 0.0033 - 210ms/epoch - 30ms/step\n",
      "Epoch 52/100\n",
      "7/7 - 0s - loss: 0.0032 - 183ms/epoch - 26ms/step\n",
      "Epoch 53/100\n",
      "7/7 - 0s - loss: 0.0029 - 185ms/epoch - 26ms/step\n",
      "Epoch 54/100\n",
      "7/7 - 0s - loss: 0.0031 - 196ms/epoch - 28ms/step\n",
      "Epoch 55/100\n",
      "7/7 - 0s - loss: 0.0029 - 181ms/epoch - 26ms/step\n",
      "Epoch 56/100\n",
      "7/7 - 0s - loss: 0.0028 - 172ms/epoch - 25ms/step\n",
      "Epoch 57/100\n",
      "7/7 - 0s - loss: 0.0028 - 183ms/epoch - 26ms/step\n",
      "Epoch 58/100\n",
      "7/7 - 0s - loss: 0.0046 - 185ms/epoch - 26ms/step\n",
      "Epoch 59/100\n",
      "7/7 - 0s - loss: 0.0036 - 196ms/epoch - 28ms/step\n",
      "Epoch 60/100\n",
      "7/7 - 0s - loss: 0.0025 - 184ms/epoch - 26ms/step\n",
      "Epoch 61/100\n",
      "7/7 - 0s - loss: 0.0027 - 183ms/epoch - 26ms/step\n",
      "Epoch 62/100\n",
      "7/7 - 0s - loss: 0.0026 - 199ms/epoch - 28ms/step\n",
      "Epoch 63/100\n",
      "7/7 - 0s - loss: 0.0027 - 187ms/epoch - 27ms/step\n",
      "Epoch 64/100\n",
      "7/7 - 0s - loss: 0.0025 - 189ms/epoch - 27ms/step\n",
      "Epoch 65/100\n",
      "7/7 - 0s - loss: 0.0021 - 178ms/epoch - 25ms/step\n",
      "Epoch 66/100\n",
      "7/7 - 0s - loss: 0.0022 - 183ms/epoch - 26ms/step\n",
      "Epoch 67/100\n",
      "7/7 - 0s - loss: 0.0018 - 186ms/epoch - 27ms/step\n",
      "Epoch 68/100\n",
      "7/7 - 0s - loss: 0.0018 - 177ms/epoch - 25ms/step\n",
      "Epoch 69/100\n",
      "7/7 - 0s - loss: 0.0018 - 183ms/epoch - 26ms/step\n",
      "Epoch 70/100\n",
      "7/7 - 0s - loss: 0.0017 - 185ms/epoch - 26ms/step\n",
      "Epoch 71/100\n",
      "7/7 - 0s - loss: 0.0018 - 180ms/epoch - 26ms/step\n",
      "Epoch 72/100\n",
      "7/7 - 0s - loss: 0.0016 - 146ms/epoch - 21ms/step\n",
      "Epoch 73/100\n",
      "7/7 - 0s - loss: 0.0015 - 154ms/epoch - 22ms/step\n",
      "Epoch 74/100\n",
      "7/7 - 0s - loss: 0.0016 - 154ms/epoch - 22ms/step\n",
      "Epoch 75/100\n",
      "7/7 - 0s - loss: 0.0023 - 159ms/epoch - 23ms/step\n",
      "Epoch 76/100\n",
      "7/7 - 0s - loss: 0.0018 - 154ms/epoch - 22ms/step\n",
      "Epoch 77/100\n",
      "7/7 - 0s - loss: 0.0018 - 153ms/epoch - 22ms/step\n",
      "Epoch 78/100\n",
      "7/7 - 0s - loss: 0.0014 - 151ms/epoch - 22ms/step\n",
      "Epoch 79/100\n",
      "7/7 - 0s - loss: 0.0015 - 152ms/epoch - 22ms/step\n",
      "Epoch 80/100\n",
      "7/7 - 0s - loss: 0.0012 - 151ms/epoch - 22ms/step\n",
      "Epoch 81/100\n",
      "7/7 - 0s - loss: 0.0014 - 153ms/epoch - 22ms/step\n",
      "Epoch 82/100\n",
      "7/7 - 0s - loss: 0.0014 - 157ms/epoch - 22ms/step\n",
      "Epoch 83/100\n",
      "7/7 - 0s - loss: 0.0012 - 144ms/epoch - 21ms/step\n",
      "Epoch 84/100\n",
      "7/7 - 0s - loss: 9.9739e-04 - 147ms/epoch - 21ms/step\n",
      "Epoch 85/100\n",
      "7/7 - 0s - loss: 0.0010 - 154ms/epoch - 22ms/step\n",
      "Epoch 86/100\n",
      "7/7 - 0s - loss: 9.0810e-04 - 161ms/epoch - 23ms/step\n",
      "Epoch 87/100\n",
      "7/7 - 0s - loss: 9.6813e-04 - 153ms/epoch - 22ms/step\n",
      "Epoch 88/100\n",
      "7/7 - 0s - loss: 0.0010 - 145ms/epoch - 21ms/step\n",
      "Epoch 89/100\n",
      "7/7 - 0s - loss: 0.0014 - 155ms/epoch - 22ms/step\n",
      "Epoch 90/100\n",
      "7/7 - 0s - loss: 0.0011 - 154ms/epoch - 22ms/step\n",
      "Epoch 91/100\n",
      "7/7 - 0s - loss: 0.0011 - 144ms/epoch - 21ms/step\n",
      "Epoch 92/100\n",
      "7/7 - 0s - loss: 0.0010 - 147ms/epoch - 21ms/step\n",
      "Epoch 93/100\n",
      "7/7 - 0s - loss: 8.1391e-04 - 144ms/epoch - 21ms/step\n",
      "Epoch 94/100\n",
      "7/7 - 0s - loss: 8.2583e-04 - 151ms/epoch - 22ms/step\n",
      "Epoch 95/100\n",
      "7/7 - 0s - loss: 7.5534e-04 - 152ms/epoch - 22ms/step\n",
      "Epoch 96/100\n",
      "7/7 - 0s - loss: 7.3728e-04 - 148ms/epoch - 21ms/step\n",
      "Epoch 97/100\n",
      "7/7 - 0s - loss: 7.3578e-04 - 150ms/epoch - 21ms/step\n",
      "Epoch 98/100\n",
      "7/7 - 0s - loss: 8.4194e-04 - 269ms/epoch - 38ms/step\n",
      "Epoch 99/100\n",
      "7/7 - 0s - loss: 9.5716e-04 - 162ms/epoch - 23ms/step\n",
      "Epoch 100/100\n",
      "7/7 - 0s - loss: 0.0014 - 210ms/epoch - 30ms/step\n"
     ]
    },
    {
     "data": {
      "text/plain": [
       "<keras.callbacks.History at 0x2330e727df0>"
      ]
     },
     "execution_count": 47,
     "metadata": {},
     "output_type": "execute_result"
    }
   ],
   "source": [
    "# Créez un modèle séquentiel\n",
    "model = Sequential()\n",
    "\n",
    "\n",
    "model.add(LSTM(100, activation='relu', input_shape=(sequence_length, 1),return_sequences=True))\n",
    "model.add(LSTM(50, activation='relu', return_sequences=True))\n",
    "model.add(LSTM(25, activation='relu'))\n",
    "# Ajoutez une couche Dense pour la prédiction\n",
    "model.add(Dense(1))\n",
    "\n",
    "\n",
    "custom_optimizer = Adam(learning_rate=0.001)# 0,001\n",
    "model.compile(loss='mean_squared_error', optimizer=custom_optimizer)\n",
    "\n",
    "\n",
    "model.fit(X_train, Y_train, epochs=100, batch_size=16, verbose=2)\n"
   ]
  },
  {
   "cell_type": "code",
   "execution_count": 48,
   "id": "uiUVsUvodhx_",
   "metadata": {
    "colab": {
     "base_uri": "https://localhost:8080/",
     "height": 448
    },
    "id": "uiUVsUvodhx_",
    "outputId": "ef868377-2532-44cb-86ec-67eaccbfaa4d"
   },
   "outputs": [
    {
     "data": {
      "text/plain": [
       "[<matplotlib.lines.Line2D at 0x23313f77ee0>]"
      ]
     },
     "execution_count": 48,
     "metadata": {},
     "output_type": "execute_result"
    },
    {
     "data": {
      "image/png": "[encoded data removed]",
      "text/plain": [
       "<Figure size 432x288 with 1 Axes>"
      ]
     },
     "metadata": {
      "needs_background": "light"
     },
     "output_type": "display_data"
    }
   ],
   "source": [
    "loss_per_epoch = model.history.history['loss']\n",
    "plt.plot(range(len(loss_per_epoch)),loss_per_epoch)"
   ]
  },
  {
   "cell_type": "code",
   "execution_count": 49,
   "id": "JiZPzj0DeT76",
   "metadata": {
    "colab": {
     "base_uri": "https://localhost:8080/"
    },
    "id": "JiZPzj0DeT76",
    "outputId": "51958441-1823-473e-baaa-8d7c4adf5e11"
   },
   "outputs": [
    {
     "name": "stdout",
     "output_type": "stream",
     "text": [
      "WARNING:tensorflow:6 out of the last 6 calls to <function Model.make_predict_function.<locals>.predict_function at 0x0000023313FB94C0> triggered tf.function retracing. Tracing is expensive and the excessive number of tracings could be due to (1) creating @tf.function repeatedly in a loop, (2) passing tensors with different shapes, (3) passing Python objects instead of tensors. For (1), please define your @tf.function outside of the loop. For (2), @tf.function has reduce_retracing=True option that can avoid unnecessary retracing. For (3), please refer to https://www.tensorflow.org/guide/function#controlling_retracing and https://www.tensorflow.org/api_docs/python/tf/function for  more details.\n",
      "1/1 [==============================] - 1s 746ms/step\n"
     ]
    }
   ],
   "source": [
    "#Evaluation du modèle\n",
    "\n",
    "Predicted_values = model.predict(X_test)\n"
   ]
  },
  {
   "cell_type": "code",
   "execution_count": 50,
   "id": "DkV00BOhebKf",
   "metadata": {
    "colab": {
     "base_uri": "https://localhost:8080/"
    },
    "id": "DkV00BOhebKf",
    "outputId": "2266d3c9-93d5-4ecd-9048-261fef3d91ef"
   },
   "outputs": [],
   "source": [
    "# Transformation inverse\n",
    "Y_train_tf = scaler.inverse_transform(Y_train.reshape(-1, 1))\n",
    "Y_test_tf= scaler.inverse_transform(Y_test.reshape(-1, 1))"
   ]
  },
  {
   "cell_type": "code",
   "execution_count": 51,
   "id": "LNhZwKKhevPe",
   "metadata": {
    "id": "LNhZwKKhevPe"
   },
   "outputs": [],
   "source": [
    "predict_values = scaler.inverse_transform(Predicted_values.reshape(-1, 1))"
   ]
  },
  {
   "cell_type": "code",
   "execution_count": 52,
   "id": "XsjpKxTve4Kf",
   "metadata": {
    "colab": {
     "base_uri": "https://localhost:8080/"
    },
    "id": "XsjpKxTve4Kf",
    "outputId": "af9dfed5-48d8-49dc-e8e4-70328c730e9c"
   },
   "outputs": [
    {
     "name": "stdout",
     "output_type": "stream",
     "text": [
      "Mean Squared Error (MSE): 1381.203156841367\n"
     ]
    }
   ],
   "source": [
    "#mse\n",
    "mse = mean_squared_error(Y_test_tf, predict_values)\n",
    "print(f'Mean Squared Error (MSE): {mse}')\n",
    "\n"
   ]
  },
  {
   "cell_type": "code",
   "execution_count": 53,
   "id": "q5NuXIn2e92k",
   "metadata": {
    "colab": {
     "base_uri": "https://localhost:8080/",
     "height": 564
    },
    "id": "q5NuXIn2e92k",
    "outputId": "4fa825ed-6ca3-47f9-fb50-4d387c4edf9a"
   },
   "outputs": [
    {
     "data": {
      "image/png": "[encoded data removed]",
      "text/plain": [
       "<Figure size 864x432 with 1 Axes>"
      ]
     },
     "metadata": {
      "needs_background": "light"
     },
     "output_type": "display_data"
    }
   ],
   "source": [
    "# Tracez les valeurs réelles et prédites en fonction de la date\n",
    "plt.figure(figsize=(12, 6))\n",
    "plt.plot(Y_test_tf, label='Valeurs réelles', marker='o')\n",
    "plt.plot(predict_values, label='Valeurs prédites', linestyle='--', marker='x')\n",
    "plt.title('Performance du modèle LSTM')\n",
    "plt.xlabel('Date')\n",
    "plt.ylabel('Nombre de passagers')\n",
    "plt.legend()\n",
    "plt.show()\n"
   ]
  },
  {
   "cell_type": "markdown",
   "id": "2wfrZkVZDrF-",
   "metadata": {
    "id": "2wfrZkVZDrF-"
   },
   "source": [
    "#### Essai 5\n",
    "- couche=3 , epochs=150 , batch_size=32 , learning_rate=0,001"
   ]
  },
  {
   "cell_type": "code",
   "execution_count": 54,
   "id": "aLWpTPkEDp_z",
   "metadata": {
    "colab": {
     "base_uri": "https://localhost:8080/"
    },
    "id": "aLWpTPkEDp_z",
    "outputId": "f36227d0-6eda-432e-e475-7fd7dbc6fa26"
   },
   "outputs": [
    {
     "name": "stdout",
     "output_type": "stream",
     "text": [
      "Epoch 1/150\n",
      "4/4 - 8s - loss: 0.1125 - 8s/epoch - 2s/step\n",
      "Epoch 2/150\n",
      "4/4 - 0s - loss: 0.0930 - 137ms/epoch - 34ms/step\n",
      "Epoch 3/150\n",
      "4/4 - 0s - loss: 0.0730 - 139ms/epoch - 35ms/step\n",
      "Epoch 4/150\n",
      "4/4 - 0s - loss: 0.0443 - 138ms/epoch - 35ms/step\n",
      "Epoch 5/150\n",
      "4/4 - 0s - loss: 0.0175 - 134ms/epoch - 33ms/step\n",
      "Epoch 6/150\n",
      "4/4 - 0s - loss: 0.0214 - 121ms/epoch - 30ms/step\n",
      "Epoch 7/150\n",
      "4/4 - 0s - loss: 0.0151 - 128ms/epoch - 32ms/step\n",
      "Epoch 8/150\n",
      "4/4 - 0s - loss: 0.0129 - 128ms/epoch - 32ms/step\n",
      "Epoch 9/150\n",
      "4/4 - 0s - loss: 0.0148 - 122ms/epoch - 31ms/step\n",
      "Epoch 10/150\n",
      "4/4 - 0s - loss: 0.0119 - 130ms/epoch - 33ms/step\n",
      "Epoch 11/150\n",
      "4/4 - 0s - loss: 0.0094 - 143ms/epoch - 36ms/step\n",
      "Epoch 12/150\n",
      "4/4 - 0s - loss: 0.0100 - 133ms/epoch - 33ms/step\n",
      "Epoch 13/150\n",
      "4/4 - 0s - loss: 0.0079 - 121ms/epoch - 30ms/step\n",
      "Epoch 14/150\n",
      "4/4 - 0s - loss: 0.0077 - 117ms/epoch - 29ms/step\n",
      "Epoch 15/150\n",
      "4/4 - 0s - loss: 0.0071 - 112ms/epoch - 28ms/step\n",
      "Epoch 16/150\n",
      "4/4 - 0s - loss: 0.0068 - 113ms/epoch - 28ms/step\n",
      "Epoch 17/150\n",
      "4/4 - 0s - loss: 0.0065 - 132ms/epoch - 33ms/step\n",
      "Epoch 18/150\n",
      "4/4 - 0s - loss: 0.0069 - 114ms/epoch - 28ms/step\n",
      "Epoch 19/150\n",
      "4/4 - 0s - loss: 0.0062 - 118ms/epoch - 29ms/step\n",
      "Epoch 20/150\n",
      "4/4 - 0s - loss: 0.0063 - 106ms/epoch - 26ms/step\n",
      "Epoch 21/150\n",
      "4/4 - 0s - loss: 0.0065 - 117ms/epoch - 29ms/step\n",
      "Epoch 22/150\n",
      "4/4 - 0s - loss: 0.0070 - 120ms/epoch - 30ms/step\n",
      "Epoch 23/150\n",
      "4/4 - 0s - loss: 0.0061 - 117ms/epoch - 29ms/step\n",
      "Epoch 24/150\n",
      "4/4 - 0s - loss: 0.0063 - 124ms/epoch - 31ms/step\n",
      "Epoch 25/150\n",
      "4/4 - 0s - loss: 0.0058 - 117ms/epoch - 29ms/step\n",
      "Epoch 26/150\n",
      "4/4 - 0s - loss: 0.0064 - 130ms/epoch - 33ms/step\n",
      "Epoch 27/150\n",
      "4/4 - 0s - loss: 0.0055 - 119ms/epoch - 30ms/step\n",
      "Epoch 28/150\n",
      "4/4 - 0s - loss: 0.0064 - 108ms/epoch - 27ms/step\n",
      "Epoch 29/150\n",
      "4/4 - 0s - loss: 0.0059 - 113ms/epoch - 28ms/step\n",
      "Epoch 30/150\n",
      "4/4 - 0s - loss: 0.0058 - 106ms/epoch - 26ms/step\n",
      "Epoch 31/150\n",
      "4/4 - 0s - loss: 0.0056 - 108ms/epoch - 27ms/step\n",
      "Epoch 32/150\n",
      "4/4 - 0s - loss: 0.0058 - 113ms/epoch - 28ms/step\n",
      "Epoch 33/150\n",
      "4/4 - 0s - loss: 0.0054 - 109ms/epoch - 27ms/step\n",
      "Epoch 34/150\n",
      "4/4 - 0s - loss: 0.0053 - 115ms/epoch - 29ms/step\n",
      "Epoch 35/150\n",
      "4/4 - 0s - loss: 0.0053 - 116ms/epoch - 29ms/step\n",
      "Epoch 36/150\n",
      "4/4 - 0s - loss: 0.0051 - 121ms/epoch - 30ms/step\n",
      "Epoch 37/150\n",
      "4/4 - 0s - loss: 0.0053 - 123ms/epoch - 31ms/step\n",
      "Epoch 38/150\n",
      "4/4 - 0s - loss: 0.0053 - 119ms/epoch - 30ms/step\n",
      "Epoch 39/150\n",
      "4/4 - 0s - loss: 0.0051 - 124ms/epoch - 31ms/step\n",
      "Epoch 40/150\n",
      "4/4 - 0s - loss: 0.0050 - 111ms/epoch - 28ms/step\n",
      "Epoch 41/150\n",
      "4/4 - 0s - loss: 0.0050 - 113ms/epoch - 28ms/step\n",
      "Epoch 42/150\n",
      "4/4 - 0s - loss: 0.0050 - 115ms/epoch - 29ms/step\n",
      "Epoch 43/150\n",
      "4/4 - 0s - loss: 0.0049 - 120ms/epoch - 30ms/step\n",
      "Epoch 44/150\n",
      "4/4 - 0s - loss: 0.0048 - 106ms/epoch - 27ms/step\n",
      "Epoch 45/150\n",
      "4/4 - 0s - loss: 0.0048 - 115ms/epoch - 29ms/step\n",
      "Epoch 46/150\n",
      "4/4 - 0s - loss: 0.0048 - 115ms/epoch - 29ms/step\n",
      "Epoch 47/150\n",
      "4/4 - 0s - loss: 0.0048 - 118ms/epoch - 30ms/step\n",
      "Epoch 48/150\n",
      "4/4 - 0s - loss: 0.0046 - 124ms/epoch - 31ms/step\n",
      "Epoch 49/150\n",
      "4/4 - 0s - loss: 0.0046 - 107ms/epoch - 27ms/step\n",
      "Epoch 50/150\n",
      "4/4 - 0s - loss: 0.0044 - 123ms/epoch - 31ms/step\n",
      "Epoch 51/150\n",
      "4/4 - 0s - loss: 0.0045 - 123ms/epoch - 31ms/step\n",
      "Epoch 52/150\n",
      "4/4 - 0s - loss: 0.0045 - 110ms/epoch - 28ms/step\n",
      "Epoch 53/150\n",
      "4/4 - 0s - loss: 0.0044 - 110ms/epoch - 28ms/step\n",
      "Epoch 54/150\n",
      "4/4 - 0s - loss: 0.0043 - 120ms/epoch - 30ms/step\n",
      "Epoch 55/150\n",
      "4/4 - 0s - loss: 0.0042 - 107ms/epoch - 27ms/step\n",
      "Epoch 56/150\n",
      "4/4 - 0s - loss: 0.0041 - 134ms/epoch - 33ms/step\n",
      "Epoch 57/150\n",
      "4/4 - 0s - loss: 0.0048 - 109ms/epoch - 27ms/step\n",
      "Epoch 58/150\n",
      "4/4 - 0s - loss: 0.0047 - 108ms/epoch - 27ms/step\n",
      "Epoch 59/150\n",
      "4/4 - 0s - loss: 0.0041 - 107ms/epoch - 27ms/step\n",
      "Epoch 60/150\n",
      "4/4 - 0s - loss: 0.0047 - 105ms/epoch - 26ms/step\n",
      "Epoch 61/150\n",
      "4/4 - 0s - loss: 0.0040 - 100ms/epoch - 25ms/step\n",
      "Epoch 62/150\n",
      "4/4 - 0s - loss: 0.0041 - 100ms/epoch - 25ms/step\n",
      "Epoch 63/150\n",
      "4/4 - 0s - loss: 0.0040 - 107ms/epoch - 27ms/step\n",
      "Epoch 64/150\n",
      "4/4 - 0s - loss: 0.0037 - 104ms/epoch - 26ms/step\n",
      "Epoch 65/150\n",
      "4/4 - 0s - loss: 0.0039 - 109ms/epoch - 27ms/step\n",
      "Epoch 66/150\n",
      "4/4 - 0s - loss: 0.0036 - 103ms/epoch - 26ms/step\n",
      "Epoch 67/150\n",
      "4/4 - 0s - loss: 0.0036 - 108ms/epoch - 27ms/step\n",
      "Epoch 68/150\n",
      "4/4 - 0s - loss: 0.0038 - 102ms/epoch - 25ms/step\n",
      "Epoch 69/150\n",
      "4/4 - 0s - loss: 0.0035 - 112ms/epoch - 28ms/step\n",
      "Epoch 70/150\n",
      "4/4 - 0s - loss: 0.0037 - 99ms/epoch - 25ms/step\n",
      "Epoch 71/150\n",
      "4/4 - 0s - loss: 0.0034 - 106ms/epoch - 26ms/step\n",
      "Epoch 72/150\n",
      "4/4 - 0s - loss: 0.0032 - 107ms/epoch - 27ms/step\n",
      "Epoch 73/150\n",
      "4/4 - 0s - loss: 0.0033 - 111ms/epoch - 28ms/step\n",
      "Epoch 74/150\n",
      "4/4 - 0s - loss: 0.0033 - 121ms/epoch - 30ms/step\n",
      "Epoch 75/150\n",
      "4/4 - 0s - loss: 0.0033 - 118ms/epoch - 30ms/step\n",
      "Epoch 76/150\n",
      "4/4 - 0s - loss: 0.0032 - 106ms/epoch - 27ms/step\n",
      "Epoch 77/150\n",
      "4/4 - 0s - loss: 0.0034 - 114ms/epoch - 28ms/step\n",
      "Epoch 78/150\n",
      "4/4 - 0s - loss: 0.0029 - 107ms/epoch - 27ms/step\n",
      "Epoch 79/150\n",
      "4/4 - 0s - loss: 0.0030 - 110ms/epoch - 27ms/step\n",
      "Epoch 80/150\n",
      "4/4 - 0s - loss: 0.0029 - 120ms/epoch - 30ms/step\n",
      "Epoch 81/150\n",
      "4/4 - 0s - loss: 0.0027 - 146ms/epoch - 36ms/step\n",
      "Epoch 82/150\n",
      "4/4 - 0s - loss: 0.0028 - 133ms/epoch - 33ms/step\n",
      "Epoch 83/150\n",
      "4/4 - 0s - loss: 0.0026 - 126ms/epoch - 31ms/step\n",
      "Epoch 84/150\n",
      "4/4 - 0s - loss: 0.0029 - 124ms/epoch - 31ms/step\n",
      "Epoch 85/150\n",
      "4/4 - 0s - loss: 0.0028 - 131ms/epoch - 33ms/step\n",
      "Epoch 86/150\n",
      "4/4 - 0s - loss: 0.0024 - 131ms/epoch - 33ms/step\n",
      "Epoch 87/150\n",
      "4/4 - 0s - loss: 0.0024 - 123ms/epoch - 31ms/step\n",
      "Epoch 88/150\n",
      "4/4 - 0s - loss: 0.0022 - 126ms/epoch - 32ms/step\n",
      "Epoch 89/150\n",
      "4/4 - 0s - loss: 0.0021 - 124ms/epoch - 31ms/step\n",
      "Epoch 90/150\n",
      "4/4 - 0s - loss: 0.0025 - 116ms/epoch - 29ms/step\n",
      "Epoch 91/150\n",
      "4/4 - 0s - loss: 0.0021 - 145ms/epoch - 36ms/step\n",
      "Epoch 92/150\n",
      "4/4 - 0s - loss: 0.0022 - 119ms/epoch - 30ms/step\n",
      "Epoch 93/150\n",
      "4/4 - 0s - loss: 0.0019 - 131ms/epoch - 33ms/step\n",
      "Epoch 94/150\n",
      "4/4 - 0s - loss: 0.0018 - 122ms/epoch - 30ms/step\n",
      "Epoch 95/150\n",
      "4/4 - 0s - loss: 0.0022 - 127ms/epoch - 32ms/step\n",
      "Epoch 96/150\n",
      "4/4 - 0s - loss: 0.0021 - 129ms/epoch - 32ms/step\n",
      "Epoch 97/150\n",
      "4/4 - 0s - loss: 0.0020 - 125ms/epoch - 31ms/step\n",
      "Epoch 98/150\n",
      "4/4 - 0s - loss: 0.0024 - 130ms/epoch - 32ms/step\n",
      "Epoch 99/150\n",
      "4/4 - 0s - loss: 0.0016 - 124ms/epoch - 31ms/step\n",
      "Epoch 100/150\n",
      "4/4 - 0s - loss: 0.0016 - 130ms/epoch - 33ms/step\n",
      "Epoch 101/150\n",
      "4/4 - 0s - loss: 0.0017 - 127ms/epoch - 32ms/step\n",
      "Epoch 102/150\n",
      "4/4 - 0s - loss: 0.0015 - 120ms/epoch - 30ms/step\n",
      "Epoch 103/150\n",
      "4/4 - 0s - loss: 0.0015 - 139ms/epoch - 35ms/step\n",
      "Epoch 104/150\n",
      "4/4 - 0s - loss: 0.0014 - 124ms/epoch - 31ms/step\n",
      "Epoch 105/150\n",
      "4/4 - 0s - loss: 0.0014 - 124ms/epoch - 31ms/step\n",
      "Epoch 106/150\n",
      "4/4 - 0s - loss: 0.0013 - 133ms/epoch - 33ms/step\n",
      "Epoch 107/150\n",
      "4/4 - 0s - loss: 0.0014 - 123ms/epoch - 31ms/step\n",
      "Epoch 108/150\n",
      "4/4 - 0s - loss: 0.0013 - 123ms/epoch - 31ms/step\n",
      "Epoch 109/150\n",
      "4/4 - 0s - loss: 0.0015 - 133ms/epoch - 33ms/step\n",
      "Epoch 110/150\n",
      "4/4 - 0s - loss: 0.0013 - 122ms/epoch - 30ms/step\n",
      "Epoch 111/150\n",
      "4/4 - 0s - loss: 0.0012 - 120ms/epoch - 30ms/step\n",
      "Epoch 112/150\n",
      "4/4 - 0s - loss: 0.0015 - 123ms/epoch - 31ms/step\n",
      "Epoch 113/150\n",
      "4/4 - 0s - loss: 0.0013 - 123ms/epoch - 31ms/step\n",
      "Epoch 114/150\n",
      "4/4 - 0s - loss: 0.0015 - 128ms/epoch - 32ms/step\n",
      "Epoch 115/150\n",
      "4/4 - 0s - loss: 0.0014 - 115ms/epoch - 29ms/step\n",
      "Epoch 116/150\n",
      "4/4 - 0s - loss: 0.0013 - 103ms/epoch - 26ms/step\n",
      "Epoch 117/150\n",
      "4/4 - 0s - loss: 0.0012 - 109ms/epoch - 27ms/step\n",
      "Epoch 118/150\n",
      "4/4 - 0s - loss: 0.0011 - 100ms/epoch - 25ms/step\n",
      "Epoch 119/150\n",
      "4/4 - 0s - loss: 0.0013 - 104ms/epoch - 26ms/step\n",
      "Epoch 120/150\n",
      "4/4 - 0s - loss: 9.3988e-04 - 117ms/epoch - 29ms/step\n",
      "Epoch 121/150\n",
      "4/4 - 0s - loss: 0.0015 - 105ms/epoch - 26ms/step\n",
      "Epoch 122/150\n",
      "4/4 - 0s - loss: 0.0013 - 100ms/epoch - 25ms/step\n",
      "Epoch 123/150\n",
      "4/4 - 0s - loss: 0.0018 - 103ms/epoch - 26ms/step\n",
      "Epoch 124/150\n",
      "4/4 - 0s - loss: 0.0012 - 99ms/epoch - 25ms/step\n",
      "Epoch 125/150\n",
      "4/4 - 0s - loss: 0.0011 - 110ms/epoch - 27ms/step\n",
      "Epoch 126/150\n",
      "4/4 - 0s - loss: 0.0010 - 110ms/epoch - 27ms/step\n",
      "Epoch 127/150\n",
      "4/4 - 0s - loss: 9.3754e-04 - 104ms/epoch - 26ms/step\n",
      "Epoch 128/150\n",
      "4/4 - 0s - loss: 7.4301e-04 - 100ms/epoch - 25ms/step\n",
      "Epoch 129/150\n",
      "4/4 - 0s - loss: 8.0186e-04 - 127ms/epoch - 32ms/step\n",
      "Epoch 130/150\n",
      "4/4 - 0s - loss: 8.9038e-04 - 106ms/epoch - 27ms/step\n",
      "Epoch 131/150\n",
      "4/4 - 0s - loss: 9.6100e-04 - 110ms/epoch - 28ms/step\n",
      "Epoch 132/150\n",
      "4/4 - 0s - loss: 7.7883e-04 - 98ms/epoch - 25ms/step\n",
      "Epoch 133/150\n",
      "4/4 - 0s - loss: 7.4445e-04 - 109ms/epoch - 27ms/step\n",
      "Epoch 134/150\n",
      "4/4 - 0s - loss: 7.6560e-04 - 97ms/epoch - 24ms/step\n",
      "Epoch 135/150\n",
      "4/4 - 0s - loss: 7.6975e-04 - 104ms/epoch - 26ms/step\n",
      "Epoch 136/150\n",
      "4/4 - 0s - loss: 7.2718e-04 - 105ms/epoch - 26ms/step\n",
      "Epoch 137/150\n",
      "4/4 - 0s - loss: 7.1726e-04 - 108ms/epoch - 27ms/step\n",
      "Epoch 138/150\n",
      "4/4 - 0s - loss: 7.3289e-04 - 98ms/epoch - 24ms/step\n",
      "Epoch 139/150\n",
      "4/4 - 0s - loss: 7.2193e-04 - 100ms/epoch - 25ms/step\n",
      "Epoch 140/150\n",
      "4/4 - 0s - loss: 8.8056e-04 - 108ms/epoch - 27ms/step\n",
      "Epoch 141/150\n",
      "4/4 - 0s - loss: 7.0863e-04 - 108ms/epoch - 27ms/step\n",
      "Epoch 142/150\n",
      "4/4 - 0s - loss: 7.1486e-04 - 107ms/epoch - 27ms/step\n",
      "Epoch 143/150\n",
      "4/4 - 0s - loss: 7.7967e-04 - 103ms/epoch - 26ms/step\n",
      "Epoch 144/150\n",
      "4/4 - 0s - loss: 0.0010 - 102ms/epoch - 25ms/step\n",
      "Epoch 145/150\n",
      "4/4 - 0s - loss: 7.9571e-04 - 105ms/epoch - 26ms/step\n",
      "Epoch 146/150\n",
      "4/4 - 0s - loss: 7.4640e-04 - 111ms/epoch - 28ms/step\n",
      "Epoch 147/150\n",
      "4/4 - 0s - loss: 9.1979e-04 - 112ms/epoch - 28ms/step\n",
      "Epoch 148/150\n",
      "4/4 - 0s - loss: 9.9068e-04 - 123ms/epoch - 31ms/step\n",
      "Epoch 149/150\n",
      "4/4 - 0s - loss: 7.5534e-04 - 107ms/epoch - 27ms/step\n",
      "Epoch 150/150\n",
      "4/4 - 0s - loss: 6.7463e-04 - 110ms/epoch - 27ms/step\n"
     ]
    },
    {
     "data": {
      "text/plain": [
       "<keras.callbacks.History at 0x233140ca310>"
      ]
     },
     "execution_count": 54,
     "metadata": {},
     "output_type": "execute_result"
    }
   ],
   "source": [
    "# Créez un modèle séquentiel\n",
    "model = Sequential()\n",
    "\n",
    "\n",
    "model.add(LSTM(100, activation='relu', input_shape=(sequence_length, 1),return_sequences=True))#\n",
    "model.add(LSTM(50, activation='relu',return_sequences=True))\n",
    "model.add(LSTM(50, activation='relu'))\n",
    "#model.add(LSTM(25, activation='relu'))\n",
    "# Ajoutez une couche Dense pour la prédiction\n",
    "model.add(Dense(1))\n",
    "\n",
    "\n",
    "custom_optimizer = Adam(learning_rate=0.001)# 0,001\n",
    "model.compile(loss='mean_squared_error', optimizer=custom_optimizer)\n",
    "\n",
    "# Entraînez le modèle en utilisant les données d'entraînement\n",
    "model.fit(X_train, Y_train, epochs=150, batch_size=32, verbose=2)\n"
   ]
  },
  {
   "cell_type": "code",
   "execution_count": 55,
   "id": "Ak0VGJ4fDzsg",
   "metadata": {
    "colab": {
     "base_uri": "https://localhost:8080/",
     "height": 448
    },
    "id": "Ak0VGJ4fDzsg",
    "outputId": "62740231-36ed-46b7-c55f-d39513a677ad"
   },
   "outputs": [
    {
     "data": {
      "text/plain": [
       "[<matplotlib.lines.Line2D at 0x233163f1310>]"
      ]
     },
     "execution_count": 55,
     "metadata": {},
     "output_type": "execute_result"
    },
    {
     "data": {
      "image/png": "[encoded data removed]",
      "text/plain": [
       "<Figure size 432x288 with 1 Axes>"
      ]
     },
     "metadata": {
      "needs_background": "light"
     },
     "output_type": "display_data"
    }
   ],
   "source": [
    "loss_per_epoch = model.history.history['loss']\n",
    "plt.plot(range(len(loss_per_epoch)),loss_per_epoch)"
   ]
  },
  {
   "cell_type": "code",
   "execution_count": 56,
   "id": "iVk6sZBlD7yW",
   "metadata": {
    "colab": {
     "base_uri": "https://localhost:8080/"
    },
    "id": "iVk6sZBlD7yW",
    "outputId": "f0d3d7c6-e5f0-4e95-9244-887b0d0da811"
   },
   "outputs": [
    {
     "name": "stdout",
     "output_type": "stream",
     "text": [
      "1/1 [==============================] - 1s 893ms/step\n"
     ]
    }
   ],
   "source": [
    "#Evaluation du modèle\n",
    "\n",
    "Predicted_values = model.predict(X_test)\n"
   ]
  },
  {
   "cell_type": "code",
   "execution_count": 57,
   "id": "PuK9g91wIcSK",
   "metadata": {
    "colab": {
     "base_uri": "https://localhost:8080/"
    },
    "id": "PuK9g91wIcSK",
    "outputId": "e160a253-4404-4fa6-809a-ff815caba37f"
   },
   "outputs": [],
   "source": [
    "# Transformation inverse\n",
    "Y_train_tf = scaler.inverse_transform(Y_train.reshape(-1, 1))\n",
    "Y_test_tf= scaler.inverse_transform(Y_test.reshape(-1, 1))"
   ]
  },
  {
   "cell_type": "code",
   "execution_count": 58,
   "id": "vqGieAD3Ik52",
   "metadata": {
    "id": "vqGieAD3Ik52"
   },
   "outputs": [],
   "source": [
    "predict_values = scaler.inverse_transform(Predicted_values.reshape(-1, 1))"
   ]
  },
  {
   "cell_type": "code",
   "execution_count": 59,
   "id": "lcLKqW1-ITIu",
   "metadata": {
    "colab": {
     "base_uri": "https://localhost:8080/"
    },
    "id": "lcLKqW1-ITIu",
    "outputId": "0fd35c2a-3ced-4b69-8743-f25eccce62d3"
   },
   "outputs": [
    {
     "name": "stdout",
     "output_type": "stream",
     "text": [
      "Mean Squared Error (MSE): 2127.713864033835\n"
     ]
    }
   ],
   "source": [
    "#mse\n",
    "mse = mean_squared_error(Y_test_tf, predict_values)\n",
    "print(f'Mean Squared Error (MSE): {mse}')\n",
    "\n"
   ]
  },
  {
   "cell_type": "code",
   "execution_count": 60,
   "id": "Ip6VGB09ECOm",
   "metadata": {
    "colab": {
     "base_uri": "https://localhost:8080/",
     "height": 564
    },
    "id": "Ip6VGB09ECOm",
    "outputId": "265fb06b-2e7e-469c-d1e6-17ea0b5a5629"
   },
   "outputs": [
    {
     "data": {
      "image/png": "[encoded data removed]",
      "text/plain": [
       "<Figure size 864x432 with 1 Axes>"
      ]
     },
     "metadata": {
      "needs_background": "light"
     },
     "output_type": "display_data"
    }
   ],
   "source": [
    "# Tracez les valeurs réelles et prédites en fonction de la date\n",
    "plt.figure(figsize=(12, 6))\n",
    "plt.plot(Y_test_tf, label='Valeurs réelles', marker='o')\n",
    "plt.plot(predict_values, label='Valeurs prédites', linestyle='--', marker='x')\n",
    "plt.title('Performance du modèle LSTM')\n",
    "plt.xlabel('Date')\n",
    "plt.ylabel('Nombre de passagers')\n",
    "plt.legend()\n",
    "plt.show()\n"
   ]
  },
  {
   "cell_type": "markdown",
   "id": "67d64126",
   "metadata": {},
   "source": [
    "# Essai 2 a le modèle qui fonctionne le mieux"
   ]
  }
 ],
 "metadata": {
  "colab": {
   "provenance": []
  },
  "kernelspec": {
   "display_name": "Python 3 (ipykernel)",
   "language": "python",
   "name": "python3"
  },
  "language_info": {
   "codemirror_mode": {
    "name": "ipython",
    "version": 3
   },
   "file_extension": ".py",
   "mimetype": "text/x-python",
   "name": "python",
   "nbconvert_exporter": "python",
   "pygments_lexer": "ipython3",
   "version": "3.10.9"
  }
 },
 "nbformat": 4,
 "nbformat_minor": 5
}
